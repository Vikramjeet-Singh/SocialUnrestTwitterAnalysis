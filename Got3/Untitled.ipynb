{
 "cells": [
  {
   "cell_type": "code",
   "execution_count": 1,
   "metadata": {
    "collapsed": true
   },
   "outputs": [],
   "source": [
    "import got3\n",
    "import json"
   ]
  },
  {
   "cell_type": "code",
   "execution_count": 2,
   "metadata": {
    "collapsed": false
   },
   "outputs": [],
   "source": [
    "def convertToDict(tweetObj):  \n",
    "    tweetDict = {}\n",
    "\n",
    "    tweetDict['permalink'] = tweetObj.permalink\n",
    "    tweetDict['username'] = tweetObj.username\n",
    "    tweetDict['text'] = tweetObj.text\n",
    "    tweetDict['date'] = str(tweetObj.date.year) + \"-\" + str(tweetObj.date.month) + \"-\" + str(tweetObj.date.day)\n",
    "    tweetDict['retweets'] = tweetObj.retweets\n",
    "    tweetDict['favorites'] = tweetObj.favorites\n",
    "    tweetDict['mentions'] = tweetObj.mentions\n",
    "    tweetDict['hashtags'] = tweetObj.hashtags\n",
    "    tweetDict['geo'] = tweetObj.geo\n",
    "    \n",
    "    return tweetDict"
   ]
  },
  {
   "cell_type": "code",
   "execution_count": 31,
   "metadata": {
    "collapsed": false
   },
   "outputs": [
    {
     "data": {
      "text/plain": [
       "<got3.manager.TweetCriteria.TweetCriteria at 0x10f2a7828>"
      ]
     },
     "execution_count": 31,
     "metadata": {},
     "output_type": "execute_result"
    }
   ],
   "source": [
    "tweetCriteria = got3.manager.TweetCriteria()\n",
    "tweetCriteria.setQuerySearch(\"#charlottesville OR #antifa OR #unitetheright OR neo-nazi OR #defendcville\")\n",
    "tweetCriteria.setSince(\"2017-08-11\")\n",
    "tweetCriteria.setUntil(\"2017-08-13\")\n",
    "\n",
    "# tweetCriteria.setMaxTweets(1000)\n",
    "\n",
    "# tweetCriteria.setQuerySearch(\"#WomenMarch OR #WhyIMarch OR #IMarchFor\")\n",
    "# tweetCriteria.setSince(\"2016-12-21\")\n",
    "# tweetCriteria.setUntil(\"2017-12-22\")"
   ]
  },
  {
   "cell_type": "code",
   "execution_count": 32,
   "metadata": {
    "collapsed": false
   },
   "outputs": [
    {
     "name": "stdout",
     "output_type": "stream",
     "text": [
      "132219\n"
     ]
    }
   ],
   "source": [
    "rawTweets = got3.manager.TweetManager.getTweets(tweetCriteria)\n",
    "print(len(rawTweets))\n",
    "\n",
    "tweets = [convertToDict(rawTweet) for rawTweet in rawTweets]\n",
    "\n",
    "with open('charlottesville.json', 'a') as outfile:\n",
    "    json.dump(tweets, outfile, indent=4)\n",
    "\n",
    "# with open('womenmarch.json', 'a') as outfile:\n",
    "#     json.dump(tweets, outfile, indent=4)"
   ]
  },
  {
   "cell_type": "code",
   "execution_count": 39,
   "metadata": {
    "collapsed": false
   },
   "outputs": [],
   "source": [
    "with open('Datasets/womenmarch.json', 'r') as data_file:\n",
    "    data = json.load(data_file)"
   ]
  },
  {
   "cell_type": "code",
   "execution_count": 40,
   "metadata": {
    "collapsed": false
   },
   "outputs": [
    {
     "data": {
      "text/plain": [
       "112692"
      ]
     },
     "execution_count": 40,
     "metadata": {},
     "output_type": "execute_result"
    }
   ],
   "source": [
    "len(data)"
   ]
  },
  {
   "cell_type": "code",
   "execution_count": null,
   "metadata": {
    "collapsed": true
   },
   "outputs": [],
   "source": []
  }
 ],
 "metadata": {
  "anaconda-cloud": {},
  "kernelspec": {
   "display_name": "Python [conda env:python-got3]",
   "language": "python",
   "name": "conda-env-python-got3-py"
  },
  "language_info": {
   "codemirror_mode": {
    "name": "ipython",
    "version": 3
   },
   "file_extension": ".py",
   "mimetype": "text/x-python",
   "name": "python",
   "nbconvert_exporter": "python",
   "pygments_lexer": "ipython3",
   "version": "3.5.4"
  }
 },
 "nbformat": 4,
 "nbformat_minor": 1
}
