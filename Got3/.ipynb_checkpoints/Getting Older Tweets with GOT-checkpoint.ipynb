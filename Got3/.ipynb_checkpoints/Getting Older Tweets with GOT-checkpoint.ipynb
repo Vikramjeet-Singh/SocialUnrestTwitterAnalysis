{
 "cells": [
  {
   "cell_type": "markdown",
   "metadata": {},
   "source": [
    "The **Twitter Search API** only returns results from the last 7 days. This means that if you are using Tweepy to search for anything - a word, a phrase, or a hashtag - you'll only get recent results. \n",
    "\n",
    "This *does not* apply to using the API to access a user's Tweets. Therefore, if your data mining is based on collecting tweets from a set of users, then you can obtain results older than 7 days, as long as you are getting tweets from timelines. \n",
    "\n",
    "In this notebook, I'm going to introduce a Python module called ``got3`` that allows you to executes searches for Tweets at any date range. It's a clever application of web scraping (which we discussed briefly in a previous lecture) where you emulate visiting the website, download the HTML, and extract specific results. Since, strangely enough, the *browser version* of search *does* allow searching for older tweets, the ``got3`` emulates visiting the browser search bar, \"executes\" a search per your parameters, and scrapes the results. In the Python environment, you get tweet objects that you can manipulate and store as normal.\n",
    "\n",
    "If you decide to use ``got3``, then you can \"experiment\" using [Twitter's browser search](https://twitter.com/search-advanced?lang=en). If you can generate a set of criteria on Twitter's browser search that gets the tweets you need, then you can configure ``got3`` to get those tweets as well. \n",
    "\n",
    "There are two things we need to do to get ``got3`` working on our systems.\n",
    "\n",
    "First, there's another library that is a dependency of ``got3``. It's called ``pyquery``. In your command line/terminal window, install ``pyquery`` with the following command.\n",
    "\n",
    "```\n",
    "pip install pyquery\n",
    "```\n",
    "\n",
    "Then, it's time to \"install\" ``got3`` itself. Unfortunately, ``got3`` is not available through ``pip``, the Python library manager we have been relying on all this time. Instead, we simply have to *put* the ``got3`` files in the right location. On Canvas, there is a zip file you can download. Unzip it, and put the entire directory (which is named ``got3``) in the directory from which you launch Python. As long as it's there, we're all set. "
   ]
  },
  {
   "cell_type": "code",
   "execution_count": 1,
   "metadata": {
    "collapsed": true
   },
   "outputs": [],
   "source": [
    "import got3"
   ]
  },
  {
   "cell_type": "markdown",
   "metadata": {},
   "source": [
    "To use ``got3``, we first have to make a ``tweetCriteria`` objects that contain our search parameters, and then we have to provide the ``tweetCriteria`` to some code that actually retrieves the tweets. \n",
    "\n",
    "Here, I'll make a ``tweetCriteria`` object and the explain what's going on. "
   ]
  },
  {
   "cell_type": "code",
   "execution_count": 2,
   "metadata": {
    "collapsed": false
   },
   "outputs": [
    {
     "data": {
      "text/plain": [
       "<got3.manager.TweetCriteria.TweetCriteria at 0x234162207b8>"
      ]
     },
     "execution_count": 2,
     "metadata": {},
     "output_type": "execute_result"
    }
   ],
   "source": [
    "tweetCriteria = got3.manager.TweetCriteria()\n",
    "tweetCriteria.setQuerySearch(\"europe refugees\")\n",
    "tweetCriteria.setSince(\"2015-05-01\")\n",
    "tweetCriteria.setUntil(\"2015-09-30\")\n",
    "tweetCriteria.setMaxTweets(1000)"
   ]
  },
  {
   "cell_type": "markdown",
   "metadata": {},
   "source": [
    "The code \n",
    "\n",
    "```python\n",
    "tweetCriteria = got3.manager.TweetCriteria()\n",
    "```\n",
    "\n",
    "initializes the ``tweetCriteria`` object. Once we have initialized it, we call several methods belonging to it to specifically specify our search criteria. \n",
    "\n",
    "Using ``.setQuerySerach`` I specify my search string. \n",
    "\n",
    "Using ``.setSince`` and ``.setUntil``, I indicate the window of time I am searching.\n",
    "\n",
    "I use ``setMaxTweets`` to indicate the number of tweets I want. \n",
    "\n",
    "Now that our ``tweetCriteria`` object is initialized *and* set up, we submit it to another method to actually retrieve the tweets."
   ]
  },
  {
   "cell_type": "code",
   "execution_count": 3,
   "metadata": {
    "collapsed": true
   },
   "outputs": [],
   "source": [
    "tweets = got3.manager.TweetManager.getTweets(tweetCriteria)"
   ]
  },
  {
   "cell_type": "markdown",
   "metadata": {},
   "source": [
    "The ``tweetCriteria`` object that you made serves as the argument to the method ``got3.manager.TweetManager.getTweets``. This returns an iterable containing all the tweets that match your criteria. \n",
    "\n",
    "Since we requested 1000 tweets, there are 1000 in the iterable."
   ]
  },
  {
   "cell_type": "code",
   "execution_count": 5,
   "metadata": {
    "collapsed": false
   },
   "outputs": [
    {
     "data": {
      "text/plain": [
       "1000"
      ]
     },
     "execution_count": 5,
     "metadata": {},
     "output_type": "execute_result"
    }
   ],
   "source": [
    "len(tweets)"
   ]
  },
  {
   "cell_type": "markdown",
   "metadata": {},
   "source": [
    "Let's take a look at what information comes with an individual tweet."
   ]
  },
  {
   "cell_type": "code",
   "execution_count": 12,
   "metadata": {
    "collapsed": true
   },
   "outputs": [],
   "source": [
    "tweet = tweets[2]"
   ]
  },
  {
   "cell_type": "markdown",
   "metadata": {},
   "source": [
    "The tweet's author id and username. You can use this to gather more tweets using either ``got`` or tweepy."
   ]
  },
  {
   "cell_type": "code",
   "execution_count": 13,
   "metadata": {
    "collapsed": false
   },
   "outputs": [
    {
     "name": "stdout",
     "output_type": "stream",
     "text": [
      "14361155\n",
      "Refugees\n"
     ]
    }
   ],
   "source": [
    "print(tweet.author_id)\n",
    "print(tweet.username)"
   ]
  },
  {
   "cell_type": "markdown",
   "metadata": {},
   "source": [
    "The text of the tweet:"
   ]
  },
  {
   "cell_type": "code",
   "execution_count": 15,
   "metadata": {
    "collapsed": false
   },
   "outputs": [
    {
     "data": {
      "text/plain": [
       "'Rescuers arrived too late to save them all http:// trib.al/wwFa4a3 #Europe #Greece #Syria pic.twitter.com/noIIBfu6Oz'"
      ]
     },
     "execution_count": 15,
     "metadata": {},
     "output_type": "execute_result"
    }
   ],
   "source": [
    "tweet.text"
   ]
  },
  {
   "cell_type": "markdown",
   "metadata": {},
   "source": [
    "The number of favorites and retweets."
   ]
  },
  {
   "cell_type": "code",
   "execution_count": 16,
   "metadata": {
    "collapsed": false
   },
   "outputs": [
    {
     "name": "stdout",
     "output_type": "stream",
     "text": [
      "26\n",
      "78\n"
     ]
    }
   ],
   "source": [
    "print(tweet.favorites)\n",
    "print(tweet.retweets)"
   ]
  },
  {
   "cell_type": "markdown",
   "metadata": {},
   "source": [
    "The date and the location (if it has one)."
   ]
  },
  {
   "cell_type": "code",
   "execution_count": 33,
   "metadata": {
    "collapsed": false
   },
   "outputs": [
    {
     "name": "stdout",
     "output_type": "stream",
     "text": [
      "2015-09-30 04:43:19\n",
      "Manhattan, NY\n"
     ]
    }
   ],
   "source": [
    "print(tweet.date)\n",
    "print(tweets[95].geo)"
   ]
  },
  {
   "cell_type": "markdown",
   "metadata": {},
   "source": [
    "The hashtags in the Tweet, but as one string. "
   ]
  },
  {
   "cell_type": "code",
   "execution_count": 34,
   "metadata": {
    "collapsed": false
   },
   "outputs": [
    {
     "name": "stdout",
     "output_type": "stream",
     "text": [
      "#UniteBlue #GunSense #ENDTHENRA\n"
     ]
    }
   ],
   "source": [
    "hashtags = tweets[24].hashtags\n",
    "print(hashtags)"
   ]
  },
  {
   "cell_type": "markdown",
   "metadata": {},
   "source": [
    "You can split the hashtags using the string method split."
   ]
  },
  {
   "cell_type": "code",
   "execution_count": 35,
   "metadata": {
    "collapsed": false
   },
   "outputs": [
    {
     "name": "stdout",
     "output_type": "stream",
     "text": [
      "['#UniteBlue', '#GunSense', '#ENDTHENRA']\n"
     ]
    }
   ],
   "source": [
    "hashtags = hashtags.split()\n",
    "print(hashtags)"
   ]
  },
  {
   "cell_type": "markdown",
   "metadata": {},
   "source": [
    "Same with mentions. "
   ]
  },
  {
   "cell_type": "code",
   "execution_count": 36,
   "metadata": {
    "collapsed": false
   },
   "outputs": [
    {
     "name": "stdout",
     "output_type": "stream",
     "text": [
      "@UNHCR @YouTube\n",
      "['@UNHCR', '@YouTube']\n"
     ]
    }
   ],
   "source": [
    "mentions = tweets[338].mentions\n",
    "print(mentions)\n",
    "mentions = mentions.split()\n",
    "print(mentions)"
   ]
  },
  {
   "cell_type": "code",
   "execution_count": 37,
   "metadata": {
    "collapsed": false
   },
   "outputs": [
    {
     "data": {
      "text/plain": [
       "['@UNHCR', '@YouTube']"
      ]
     },
     "execution_count": 37,
     "metadata": {},
     "output_type": "execute_result"
    }
   ],
   "source": [
    "mentions"
   ]
  },
  {
   "cell_type": "markdown",
   "metadata": {},
   "source": [
    "# Criteria Objects\n",
    "\n",
    "Once you've created a criteria object, there are number of methods you can call to set the criteria for your search."
   ]
  },
  {
   "cell_type": "code",
   "execution_count": null,
   "metadata": {
    "collapsed": true
   },
   "outputs": [],
   "source": [
    "tweetCriteria = got3.manager.TweetCriteria()"
   ]
  },
  {
   "cell_type": "markdown",
   "metadata": {},
   "source": [
    "* ``.setUsername`` restricts yours search to a specific user.\n",
    "* ``.setQuerySearch`` indicates what term or phrase the returned Tweets should contain. Hashtags work here as well.\n",
    "* ``.setSince`` takes a string in the format ``YYYY-MM-DD`` and sets the start date for the search window\n",
    "* ``.setUntil`` takes a string in the format ``YYYY-MM-DD`` and sets the end date for the search window\n",
    "* ``.setMaxTweets`` indicates how many Tweets to return. If you don't indicate this criteria, the code will attempt to get *ALL* tweets that meet the other criteria. Note, that if your search criteria is either vague enough or popular enough you might get a huge amount of tweets. You may want to compartmentalize your searches. Instead of searching for all tweets that contain #iphone in June, July, and August, write Python code that iterates through *each day* of these months and gets all tweets per day.\n",
    "* ``.setLang`` takes the two-letter code of a language to restrict the language of the returned tweets."
   ]
  },
  {
   "cell_type": "code",
   "execution_count": 52,
   "metadata": {
    "collapsed": false
   },
   "outputs": [
    {
     "data": {
      "text/plain": [
       "<got3.manager.TweetCriteria.TweetCriteria at 0x23417326518>"
      ]
     },
     "execution_count": 52,
     "metadata": {},
     "output_type": "execute_result"
    }
   ],
   "source": [
    "# Get 50 tweets by barackobama that contain the word 'united' and are in English\n",
    "# and were published between 10 Sep 2015 and 10 Sep 2016\n",
    "\n",
    "tweetCriteria.setUsername(\"barackobama\")\n",
    "tweetCriteria.setQuerySearch(\"united\")\n",
    "tweetCriteria.setSince(\"2015-09-10\")\n",
    "tweetCriteria.setUntil(\"2016-09-10\")\n",
    "tweetCriteria.setMaxTweets(50)\n",
    "tweetCriteria.setLang(\"en\")"
   ]
  },
  {
   "cell_type": "code",
   "execution_count": 56,
   "metadata": {
    "collapsed": true
   },
   "outputs": [],
   "source": [
    "obama_united_tweets = got3.manager.TweetManager.getTweets(tweetCriteria)"
   ]
  },
  {
   "cell_type": "code",
   "execution_count": 57,
   "metadata": {
    "collapsed": false
   },
   "outputs": [
    {
     "name": "stdout",
     "output_type": "stream",
     "text": [
      "The United States is leading the way in the fight to #ActOnClimate . pic.twitter.com/vkUMjg6XKc\n",
      "2016-09-06 23:57:30\n",
      "**************************************************\n",
      "The United States just hit one million solar installations—enough to power 5.5 million homes. #MillionSolarStrong\n",
      "2016-05-03 19:00:16\n",
      "**************************************************\n",
      "Retweet if you believe it's time for the United States to #LeadOnLeave . pic.twitter.com/8jsAkBBqzx\n",
      "2016-04-11 20:34:06\n",
      "**************************************************\n",
      "Clean energy currently employs 2.5 million people in the United States. Check it out: http:// ofa.bo/gA3q #ActOnClimate\n",
      "2016-04-06 03:13:43\n",
      "**************************************************\n",
      "The United States of America has the strongest, most durable economy in the world—and it's getting better. pic.twitter.com/mCyYWccvf5\n",
      "2016-04-01 21:12:40\n",
      "**************************************************\n"
     ]
    }
   ],
   "source": [
    "for x in obama_united_tweets[:5]:\n",
    "    print(x.text)\n",
    "    print(x.date)\n",
    "    print(\"*\"*50)"
   ]
  },
  {
   "cell_type": "markdown",
   "metadata": {},
   "source": [
    "# GOT and Tweet Location\n",
    "\n",
    "At first glance, it seems that ``got3`` doesn't provide you with the ability to search by location. However, keep in mind that what ``got3`` is doing behind the scenes is *going to the browser search form*, submitting a search, and retrieving the results. There *is* a way to search for a location in the browser search form; it's by providing a hidden parameter directly to the search string. \n",
    "\n",
    "For example, in the online Twitter interface search box, if you input the following string:\n",
    "\n",
    "```\n",
    "debate near:\"Memphis, Tennessee\" within:15km\n",
    "```\n",
    "\n",
    "This searches for all the Tweets that contain the word ``debate`` that are within 15km of Memphis, TN. The ``near:`` in the query string indicates the thing after it is a query criteria; same with ``within:``. \n",
    "\n",
    "We can \"jerry-rig\" this on ``got3`` by formatting our argument to ``setQuerySearch`` in the same fashion. "
   ]
  },
  {
   "cell_type": "code",
   "execution_count": 60,
   "metadata": {
    "collapsed": true
   },
   "outputs": [],
   "source": [
    "tweetCriteria = got3.manager.TweetCriteria()\n",
    "tweetCriteria.setQuerySearch('debate near:\"Memphis, TN\" within:15km')\n",
    "tweetCriteria.setMaxTweets(10)\n",
    "memphis_tweets = got3.manager.TweetManager.getTweets(tweetCriteria)"
   ]
  },
  {
   "cell_type": "markdown",
   "metadata": {},
   "source": [
    "Note that the location after ``near:`` has to be **in double quotation marks**. That means the *string itself* needs to be in single quotation marks. If you do it the other way around:\n",
    "\n",
    "```python\n",
    "\"debate near:'Memphis, TN' within:15km\" # This won't work\n",
    "```\n",
    "\n",
    "It won't work. \n",
    "\n",
    "How do you find out how exactly you should \"name\" a location? \n",
    "\n",
    "I recommend you go to the [Twitter Advanced Search page](https://twitter.com/search-advanced?lang=en), click on the option \"Near this place\", and start typing out the location of interest to you. Twitter will auto-suggest places. Find the one you're looking for and use the wording they use. \n",
    "\n",
    "## Latitude and Longitude\n",
    "\n",
    "It's possible to use this ``.setQuerySearch`` tweak to specify a location by latitude and longitude. The in-query parameter is called ``geocode``, and you need to enter a latitude, longitude, and radius separated by commas. The radius needs to be followed by either ``mi`` or ``km``, indicating units. Note that unlike the ``near:`` criteria, the ``geocode`` criteria does *not* have to be in double quotation marks. \n",
    "\n",
    "Here's what people in the capital of the Philippines thought about Trump in April of this year. "
   ]
  },
  {
   "cell_type": "code",
   "execution_count": 70,
   "metadata": {
    "collapsed": true
   },
   "outputs": [],
   "source": [
    "tweetCriteria = got3.manager.TweetCriteria()\n",
    "tweetCriteria.setQuerySearch('Trump geocode:14.5995,120.9842,20km')\n",
    "tweetCriteria.setSince(\"2016-04-01\")\n",
    "tweetCriteria.setUntil(\"2016-04-30\")\n",
    "tweetCriteria.setMaxTweets(10)\n",
    "trump_in_philippines = got3.manager.TweetManager.getTweets(tweetCriteria)"
   ]
  },
  {
   "cell_type": "code",
   "execution_count": 71,
   "metadata": {
    "collapsed": false
   },
   "outputs": [
    {
     "name": "stdout",
     "output_type": "stream",
     "text": [
      "si binay parang donald trump na plastic version :-) HEHEHEHEHE\n",
      "**************************************************\n",
      "Donald Trump is confused of 9/11 and 7-Eleven Hahahahaha TF\n",
      "**************************************************\n",
      "#republican #standyourground #trump #alllivesmatter @Commander Shooting Range https://www. instagram.com/p/BEDzCAbtid-/\n",
      "**************************************************\n",
      "Seriously America if you're going to make Donald Trump President you… https://www. instagram.com/p/BD_LbGoiHWiy g2DYQbbrMOefuoRK2pDQ-ePTHU0/ …\n",
      "**************************************************\n",
      "now im worried what if trump will win as president? #iHeartRadioStoleOurAward\n",
      "**************************************************\n"
     ]
    }
   ],
   "source": [
    "for x in trump_in_philippines[:5]:\n",
    "    print(x.text)\n",
    "    print('*'*50)"
   ]
  }
 ],
 "metadata": {
  "anaconda-cloud": {},
  "kernelspec": {
   "display_name": "Python [conda root]",
   "language": "python",
   "name": "conda-root-py"
  },
  "language_info": {
   "codemirror_mode": {
    "name": "ipython",
    "version": 3
   },
   "file_extension": ".py",
   "mimetype": "text/x-python",
   "name": "python",
   "nbconvert_exporter": "python",
   "pygments_lexer": "ipython3",
   "version": "3.5.2"
  }
 },
 "nbformat": 4,
 "nbformat_minor": 0
}
