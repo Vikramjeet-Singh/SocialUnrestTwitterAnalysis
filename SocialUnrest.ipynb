{
 "cells": [
  {
   "cell_type": "code",
   "execution_count": 2,
   "metadata": {},
   "outputs": [],
   "source": [
    "%matplotlib inline\n",
    "import matplotlib.pyplot as plt\n",
    "import pandas as pd\n",
    "import numpy as np\n",
    "import html.parser as htmlParser\n",
    "import re\n",
    "from datetime import datetime\n",
    "from langdetect import detect\n",
    "import nltk\n",
    "from nltk.corpus import sentiwordnet as swn\n",
    "from nltk.corpus import stopwords\n",
    "from nltk.tokenize import word_tokenize\n",
    "from nltk.stem import WordNetLemmatizer\n",
    "from nltk.sentiment.vader import SentimentIntensityAnalyzer\n",
    "from sklearn.metrics import accuracy_score\n",
    "from sklearn.feature_extraction.text import TfidfVectorizer\n",
    "from sklearn.model_selection import train_test_split\n",
    "from sklearn.model_selection import cross_val_score\n",
    "from sklearn.metrics import accuracy_score, confusion_matrix, f1_score\n",
    "from sklearn.utils import shuffle\n",
    "from sklearn.linear_model import LogisticRegression\n",
    "from sklearn.naive_bayes import BernoulliNB\n",
    "from sklearn.svm import SVC"
   ]
  },
  {
   "cell_type": "code",
   "execution_count": 3,
   "metadata": {
    "collapsed": true
   },
   "outputs": [],
   "source": [
    "np.random.seed(1)"
   ]
  },
  {
   "cell_type": "markdown",
   "metadata": {},
   "source": [
    "Open data file for Charlottesville event and add some useful columns to the dataframe"
   ]
  },
  {
   "cell_type": "code",
   "execution_count": 4,
   "metadata": {
    "collapsed": true
   },
   "outputs": [],
   "source": [
    "# open file\n",
    "cVille_df = pd.read_json('./Datasets/charlottesville.json')\n",
    "\n",
    "# add ids\n",
    "cVille_df['id'] = [url.rsplit('/', 1)[-1] for url in cVille_df['permalink']]\n",
    "\n",
    "# get number of mentions instead of actual values\n",
    "cVille_df['mention_count'] = [(len(mentions.split(' ')) if mentions != \"\" else 0) for mentions in cVille_df['mentions']]\n",
    "\n",
    "# add hashtag count column as well\n",
    "cVille_df['hashtag_count'] = [(len(hashtags.split(' ')) if hashtags != \"\" else 0)  for hashtags in cVille_df['hashtags'] ]\n",
    "\n",
    "# drop username and geo\n",
    "cVille_df = cVille_df.drop(['geo', 'username', 'permalink', 'mentions'], axis=1)\n",
    "\n",
    "# add lang column\n",
    "cVille_df['lang'] = [detect(text) for text in cVille_df['text']]\n",
    "\n",
    "# drop non-english rows\n",
    "cVille_df = cVille_df[cVille_df.lang == 'en']"
   ]
  },
  {
   "cell_type": "markdown",
   "metadata": {},
   "source": [
    "Open data file for WomenMarch event and add some useful columns to the dataframe"
   ]
  },
  {
   "cell_type": "code",
   "execution_count": 5,
   "metadata": {
    "collapsed": true
   },
   "outputs": [],
   "source": [
    "# open file\n",
    "womenMarch_df = pd.read_json('./Datasets/womenmarch.json')\n",
    "\n",
    "# add ids\n",
    "womenMarch_df['id'] = [url.rsplit('/', 1)[-1] for url in womenMarch_df['permalink']]\n",
    "\n",
    "# get number of mentions instead of actual values\n",
    "womenMarch_df['mention_count'] = [(len(mentions.split(' ')) if mentions != \"\" else 0) for mentions in womenMarch_df['mentions']]\n",
    "\n",
    "# add hashtag count column as well\n",
    "womenMarch_df['hashtag_count'] = [(len(hashtags.split(' ')) if hashtags != \"\" else 0)  for hashtags in womenMarch_df['hashtags'] ]\n",
    "\n",
    "# drop username and geo\n",
    "womenMarch_df = womenMarch_df.drop(['geo', 'username', 'permalink', 'mentions'], axis=1)\n",
    "\n",
    "# add lang column\n",
    "womenMarch_df['lang'] = [detect(text) for text in womenMarch_df['text']]\n",
    "\n",
    "# drop non-english rows\n",
    "womenMarch_df = womenMarch_df[womenMarch_df.lang == 'en']"
   ]
  },
  {
   "cell_type": "markdown",
   "metadata": {},
   "source": [
    "Some more preprocessing of data."
   ]
  },
  {
   "cell_type": "code",
   "execution_count": 6,
   "metadata": {
    "collapsed": true
   },
   "outputs": [],
   "source": [
    "def containsChar(text, pattern):\n",
    "    for word in text.split(' '):\n",
    "        if word == pattern: \n",
    "            return True\n",
    "    return False"
   ]
  },
  {
   "cell_type": "markdown",
   "metadata": {},
   "source": [
    "Preprocess data function"
   ]
  },
  {
   "cell_type": "code",
   "execution_count": 7,
   "metadata": {
    "collapsed": true
   },
   "outputs": [],
   "source": [
    "# This method preprocesses the data in given dataframe\n",
    "# wasViolent = True indicates violent event and False indicates non-violent event \n",
    "\n",
    "def preprocessData(df, wasViolent):\n",
    "    \n",
    "    # convert html elements to readable format (also convert text to lowercase)\n",
    "    filteredText = [htmlParser.unescape(text.lower()) for text in df['text']]\n",
    "\n",
    "    # remove urls (because urls conatain spaces that make it difficult, this will stop at ellipsis or # or @ or end of line)\n",
    "    # not 100% accurate but decent approach\n",
    "    url_pattern = re.compile(\"http(.+?)(@\\S+|#\\S+|\\\\u2026|$)\")\n",
    "    filteredText = [re.sub(url_pattern, \"\", text) for text in filteredText]\n",
    "\n",
    "    # remove usernames and mentions\n",
    "    username_pattern = re.compile(\"@\\S+\")\n",
    "    filteredText = [re.sub(username_pattern, \"\", text) for text in filteredText]\n",
    "\n",
    "    # remove hashtags\n",
    "    hashtag_pattern = re.compile(\"#\\S+\")\n",
    "    filteredText = [re.sub(hashtag_pattern, \"\", text) for text in filteredText]\n",
    "\n",
    "    # emoticon handling (replace positive_emojis with pos_emoji and negative_emojis with neg_emoji keyword)\n",
    "    pos_emojis = [':-)', ':)', '(:', '(-:', ':-D', ':D', 'X-D', 'XD', 'xD', '<3', ':*', ';-)', ';)', ';-D', ';D', '(;', '(-;']\n",
    "    filteredText = [' '.join([('pos_emoji' if word in pos_emojis else word) for word in text.split(' ')]) for text in filteredText]\n",
    "\n",
    "    # add two new features (pos_emoji and neg_emoji - 1 for presence and 0 for absence)\n",
    "    df['pos_emoji'] = [(1 if containsChar(text, 'pos_emoji') else 0) for text in filteredText]\n",
    "    df['neg_emoji'] = [(1 if containsChar(text, 'neg_emoji') else 0) for text in filteredText]\n",
    "    \n",
    "    neg_emojis = [\":-(\", \":(\", \"):\", \")-:\", \":,(\", \":'(\", ':\"(', \":((\"]\n",
    "    filteredText = [' '.join([('neg_emoji' if word in neg_emojis else word) for word in text.split(' ')]) for text in filteredText]\n",
    "\n",
    "    # handle punctuations (add punc_excl=1 if ! exists else 0, same with punc_ques and ?)\n",
    "    df['punc_excl'] = [(1 if containsChar(text, '!') else 0) for text in filteredText]\n",
    "    df['punc_ques'] = [(1 if containsChar(text, '?') else 0) for text in filteredText]\n",
    "    \n",
    "    # remove pictures\n",
    "    pic_pattern = re.compile(\"pic.twitter.com(.+)(/s|$)\")\n",
    "    filteredText = [re.sub(pic_pattern, \"\", text) for text in filteredText]\n",
    "\n",
    "    # remove question marks and dollar signs\n",
    "    removableChars = ['?', '$']\n",
    "    filteredText = [' '.join([('' if word in removableChars else word) for word in text.split(' ')]) for text in filteredText]\n",
    "\n",
    "    # remove random words (if still there is : or emoji then ignore them)\n",
    "    random_pattern = re.compile(\"(&|:|!|,|;|)\", re.I)\n",
    "    filteredText = [re.sub(random_pattern, \"\", text) for text in filteredText]\n",
    "\n",
    "    # handle repeating characters (replace characters repeating more than twice as two characters)\n",
    "    repeated_pattern = re.compile(r\"(.)\\1{1,}\")\n",
    "    filteredText = [re.sub(repeated_pattern, r'\\1\\1', text) for text in filteredText]\n",
    "\n",
    "    # add label\n",
    "    df['violent'] = [1 if wasViolent else 0] * df.shape[0]\n",
    "\n",
    "    # add filteredText column to dataframe\n",
    "    df['filteredText'] = filteredText\n",
    "    \n",
    "    return df[['id', 'date', 'filteredText', 'hashtags', 'favorites', 'retweets', 'mention_count', 'hashtag_count', 'pos_emoji', 'neg_emoji', 'punc_excl', 'punc_ques', 'violent']]"
   ]
  },
  {
   "cell_type": "markdown",
   "metadata": {},
   "source": [
    "Check number of valid samples in English"
   ]
  },
  {
   "cell_type": "code",
   "execution_count": 8,
   "metadata": {},
   "outputs": [
    {
     "name": "stdout",
     "output_type": "stream",
     "text": [
      "(154020, 9)\n",
      "(109967, 9)\n"
     ]
    }
   ],
   "source": [
    "print(cVille_df.shape)\n",
    "print(womenMarch_df.shape)"
   ]
  },
  {
   "cell_type": "markdown",
   "metadata": {},
   "source": [
    "Preprocess both Charlottesville and WomenMarch data"
   ]
  },
  {
   "cell_type": "code",
   "execution_count": 9,
   "metadata": {
    "collapsed": true
   },
   "outputs": [],
   "source": [
    "cVille_preprocessed_df = preprocessData(cVille_df, wasViolent=True)\n",
    "womenMarch_preprocessed_df = preprocessData(womenMarch_df, wasViolent=False)"
   ]
  },
  {
   "cell_type": "code",
   "execution_count": 10,
   "metadata": {},
   "outputs": [
    {
     "data": {
      "text/html": [
       "<div>\n",
       "<style>\n",
       "    .dataframe thead tr:only-child th {\n",
       "        text-align: right;\n",
       "    }\n",
       "\n",
       "    .dataframe thead th {\n",
       "        text-align: left;\n",
       "    }\n",
       "\n",
       "    .dataframe tbody tr th {\n",
       "        vertical-align: top;\n",
       "    }\n",
       "</style>\n",
       "<table border=\"1\" class=\"dataframe\">\n",
       "  <thead>\n",
       "    <tr style=\"text-align: right;\">\n",
       "      <th></th>\n",
       "      <th>id</th>\n",
       "      <th>date</th>\n",
       "      <th>filteredText</th>\n",
       "      <th>hashtags</th>\n",
       "      <th>favorites</th>\n",
       "      <th>retweets</th>\n",
       "      <th>mention_count</th>\n",
       "      <th>hashtag_count</th>\n",
       "      <th>pos_emoji</th>\n",
       "      <th>neg_emoji</th>\n",
       "      <th>punc_excl</th>\n",
       "      <th>punc_ques</th>\n",
       "      <th>violent</th>\n",
       "    </tr>\n",
       "  </thead>\n",
       "  <tbody>\n",
       "    <tr>\n",
       "      <th>0</th>\n",
       "      <td>884925177917845504</td>\n",
       "      <td>2017-07-11</td>\n",
       "      <td>de blasio’s trip was approved for ‘city purpos...</td>\n",
       "      <td>#commies #antifa</td>\n",
       "      <td>0</td>\n",
       "      <td>2</td>\n",
       "      <td>0</td>\n",
       "      <td>2</td>\n",
       "      <td>0</td>\n",
       "      <td>0</td>\n",
       "      <td>0</td>\n",
       "      <td>0</td>\n",
       "      <td>1</td>\n",
       "    </tr>\n",
       "    <tr>\n",
       "      <th>1</th>\n",
       "      <td>884924281951576064</td>\n",
       "      <td>2017-07-11</td>\n",
       "      <td>alt-right trump-supporting neo-nazi confirmed.</td>\n",
       "      <td></td>\n",
       "      <td>0</td>\n",
       "      <td>0</td>\n",
       "      <td>0</td>\n",
       "      <td>0</td>\n",
       "      <td>0</td>\n",
       "      <td>0</td>\n",
       "      <td>0</td>\n",
       "      <td>0</td>\n",
       "      <td>1</td>\n",
       "    </tr>\n",
       "    <tr>\n",
       "      <th>2</th>\n",
       "      <td>884923880938328066</td>\n",
       "      <td>2017-07-11</td>\n",
       "      <td>this. kills me. i remember seeing  around duri...</td>\n",
       "      <td>#RobertGrodt #Occupy #BijiRojava #antifa</td>\n",
       "      <td>7</td>\n",
       "      <td>4</td>\n",
       "      <td>0</td>\n",
       "      <td>4</td>\n",
       "      <td>0</td>\n",
       "      <td>0</td>\n",
       "      <td>0</td>\n",
       "      <td>0</td>\n",
       "      <td>1</td>\n",
       "    </tr>\n",
       "    <tr>\n",
       "      <th>3</th>\n",
       "      <td>884923588960280576</td>\n",
       "      <td>2017-07-11</td>\n",
       "      <td>is resorting to violence and unrest to silenc...</td>\n",
       "      <td>#antifa</td>\n",
       "      <td>0</td>\n",
       "      <td>0</td>\n",
       "      <td>0</td>\n",
       "      <td>1</td>\n",
       "      <td>0</td>\n",
       "      <td>0</td>\n",
       "      <td>0</td>\n",
       "      <td>0</td>\n",
       "      <td>1</td>\n",
       "    </tr>\n",
       "    <tr>\n",
       "      <th>4</th>\n",
       "      <td>884922175748059136</td>\n",
       "      <td>2017-07-11</td>\n",
       "      <td>neo-nazi  july 12th internet-wide day of act...</td>\n",
       "      <td>#Politics #Collusion #NetNeutrality</td>\n",
       "      <td>0</td>\n",
       "      <td>1</td>\n",
       "      <td>1</td>\n",
       "      <td>3</td>\n",
       "      <td>0</td>\n",
       "      <td>0</td>\n",
       "      <td>0</td>\n",
       "      <td>0</td>\n",
       "      <td>1</td>\n",
       "    </tr>\n",
       "  </tbody>\n",
       "</table>\n",
       "</div>"
      ],
      "text/plain": [
       "                   id       date  \\\n",
       "0  884925177917845504 2017-07-11   \n",
       "1  884924281951576064 2017-07-11   \n",
       "2  884923880938328066 2017-07-11   \n",
       "3  884923588960280576 2017-07-11   \n",
       "4  884922175748059136 2017-07-11   \n",
       "\n",
       "                                        filteredText  \\\n",
       "0  de blasio’s trip was approved for ‘city purpos...   \n",
       "1     alt-right trump-supporting neo-nazi confirmed.   \n",
       "2  this. kills me. i remember seeing  around duri...   \n",
       "3   is resorting to violence and unrest to silenc...   \n",
       "4    neo-nazi  july 12th internet-wide day of act...   \n",
       "\n",
       "                                   hashtags  favorites  retweets  \\\n",
       "0                          #commies #antifa          0         2   \n",
       "1                                                    0         0   \n",
       "2  #RobertGrodt #Occupy #BijiRojava #antifa          7         4   \n",
       "3                                   #antifa          0         0   \n",
       "4       #Politics #Collusion #NetNeutrality          0         1   \n",
       "\n",
       "   mention_count  hashtag_count  pos_emoji  neg_emoji  punc_excl  punc_ques  \\\n",
       "0              0              2          0          0          0          0   \n",
       "1              0              0          0          0          0          0   \n",
       "2              0              4          0          0          0          0   \n",
       "3              0              1          0          0          0          0   \n",
       "4              1              3          0          0          0          0   \n",
       "\n",
       "   violent  \n",
       "0        1  \n",
       "1        1  \n",
       "2        1  \n",
       "3        1  \n",
       "4        1  "
      ]
     },
     "execution_count": 10,
     "metadata": {},
     "output_type": "execute_result"
    }
   ],
   "source": [
    "cVille_preprocessed_df.head()"
   ]
  },
  {
   "cell_type": "code",
   "execution_count": 11,
   "metadata": {},
   "outputs": [
    {
     "data": {
      "text/html": [
       "<div>\n",
       "<style>\n",
       "    .dataframe thead tr:only-child th {\n",
       "        text-align: right;\n",
       "    }\n",
       "\n",
       "    .dataframe thead th {\n",
       "        text-align: left;\n",
       "    }\n",
       "\n",
       "    .dataframe tbody tr th {\n",
       "        vertical-align: top;\n",
       "    }\n",
       "</style>\n",
       "<table border=\"1\" class=\"dataframe\">\n",
       "  <thead>\n",
       "    <tr style=\"text-align: right;\">\n",
       "      <th></th>\n",
       "      <th>id</th>\n",
       "      <th>date</th>\n",
       "      <th>filteredText</th>\n",
       "      <th>hashtags</th>\n",
       "      <th>favorites</th>\n",
       "      <th>retweets</th>\n",
       "      <th>mention_count</th>\n",
       "      <th>hashtag_count</th>\n",
       "      <th>pos_emoji</th>\n",
       "      <th>neg_emoji</th>\n",
       "      <th>punc_excl</th>\n",
       "      <th>punc_ques</th>\n",
       "      <th>violent</th>\n",
       "    </tr>\n",
       "  </thead>\n",
       "  <tbody>\n",
       "    <tr>\n",
       "      <th>0</th>\n",
       "      <td>921443913398972416</td>\n",
       "      <td>2017-10-20</td>\n",
       "      <td>can we make our message any clearer?</td>\n",
       "      <td>#MeToo #EndRapeCulture #NotOkay #WhyIMarch</td>\n",
       "      <td>0</td>\n",
       "      <td>1</td>\n",
       "      <td>0</td>\n",
       "      <td>4</td>\n",
       "      <td>0</td>\n",
       "      <td>0</td>\n",
       "      <td>0</td>\n",
       "      <td>0</td>\n",
       "      <td>0</td>\n",
       "    </tr>\n",
       "    <tr>\n",
       "      <th>1</th>\n",
       "      <td>921204515738546176</td>\n",
       "      <td>2017-10-19</td>\n",
       "      <td>anyone who doesn't support affordable  is not ...</td>\n",
       "      <td>#birthcontrol #prolife #ProofIsInThePudding #W...</td>\n",
       "      <td>1</td>\n",
       "      <td>1</td>\n",
       "      <td>0</td>\n",
       "      <td>5</td>\n",
       "      <td>0</td>\n",
       "      <td>0</td>\n",
       "      <td>0</td>\n",
       "      <td>0</td>\n",
       "      <td>0</td>\n",
       "    </tr>\n",
       "    <tr>\n",
       "      <th>2</th>\n",
       "      <td>921100053720256514</td>\n",
       "      <td>2017-10-19</td>\n",
       "      <td>each and every day for</td>\n",
       "      <td>#WhyIMarch #RacialJustice #M4RJ #BlackLivesMatter</td>\n",
       "      <td>0</td>\n",
       "      <td>2</td>\n",
       "      <td>0</td>\n",
       "      <td>4</td>\n",
       "      <td>0</td>\n",
       "      <td>0</td>\n",
       "      <td>0</td>\n",
       "      <td>0</td>\n",
       "      <td>0</td>\n",
       "    </tr>\n",
       "    <tr>\n",
       "      <th>3</th>\n",
       "      <td>920843500781953024</td>\n",
       "      <td>2017-10-18</td>\n",
       "      <td>because  deserve a livable future.</td>\n",
       "      <td>#whyimarch #youth</td>\n",
       "      <td>0</td>\n",
       "      <td>1</td>\n",
       "      <td>1</td>\n",
       "      <td>2</td>\n",
       "      <td>0</td>\n",
       "      <td>0</td>\n",
       "      <td>0</td>\n",
       "      <td>0</td>\n",
       "      <td>0</td>\n",
       "    </tr>\n",
       "    <tr>\n",
       "      <th>4</th>\n",
       "      <td>920765197605855232</td>\n",
       "      <td>2017-10-18</td>\n",
       "      <td>started a conversation with my daughter  . i ...</td>\n",
       "      <td>#MeToo #WhyIMarch #ShePersisted</td>\n",
       "      <td>2</td>\n",
       "      <td>3</td>\n",
       "      <td>1</td>\n",
       "      <td>3</td>\n",
       "      <td>0</td>\n",
       "      <td>0</td>\n",
       "      <td>0</td>\n",
       "      <td>0</td>\n",
       "      <td>0</td>\n",
       "    </tr>\n",
       "  </tbody>\n",
       "</table>\n",
       "</div>"
      ],
      "text/plain": [
       "                   id       date  \\\n",
       "0  921443913398972416 2017-10-20   \n",
       "1  921204515738546176 2017-10-19   \n",
       "2  921100053720256514 2017-10-19   \n",
       "3  920843500781953024 2017-10-18   \n",
       "4  920765197605855232 2017-10-18   \n",
       "\n",
       "                                        filteredText  \\\n",
       "0             can we make our message any clearer?     \n",
       "1  anyone who doesn't support affordable  is not ...   \n",
       "2                           each and every day for     \n",
       "3                because  deserve a livable future.    \n",
       "4   started a conversation with my daughter  . i ...   \n",
       "\n",
       "                                            hashtags  favorites  retweets  \\\n",
       "0         #MeToo #EndRapeCulture #NotOkay #WhyIMarch          0         1   \n",
       "1  #birthcontrol #prolife #ProofIsInThePudding #W...          1         1   \n",
       "2  #WhyIMarch #RacialJustice #M4RJ #BlackLivesMatter          0         2   \n",
       "3                                  #whyimarch #youth          0         1   \n",
       "4                    #MeToo #WhyIMarch #ShePersisted          2         3   \n",
       "\n",
       "   mention_count  hashtag_count  pos_emoji  neg_emoji  punc_excl  punc_ques  \\\n",
       "0              0              4          0          0          0          0   \n",
       "1              0              5          0          0          0          0   \n",
       "2              0              4          0          0          0          0   \n",
       "3              1              2          0          0          0          0   \n",
       "4              1              3          0          0          0          0   \n",
       "\n",
       "   violent  \n",
       "0        0  \n",
       "1        0  \n",
       "2        0  \n",
       "3        0  \n",
       "4        0  "
      ]
     },
     "execution_count": 11,
     "metadata": {},
     "output_type": "execute_result"
    }
   ],
   "source": [
    "womenMarch_preprocessed_df.head()"
   ]
  },
  {
   "cell_type": "code",
   "execution_count": 12,
   "metadata": {
    "collapsed": true
   },
   "outputs": [],
   "source": [
    "# write preprocessed data back to to the disk\n",
    "cVille_preprocessed_df.to_csv('./Datasets/charlottesville_preprocessed.csv', sep='\\t', index=False)\n",
    "womenMarch_preprocessed_df.to_csv('./Datasets/womenMarch_preprocessed.csv', sep='\\t', index=False)"
   ]
  },
  {
   "cell_type": "markdown",
   "metadata": {},
   "source": [
    "Read Charlottesville and Women March preprocessed data from the disk"
   ]
  },
  {
   "cell_type": "code",
   "execution_count": 13,
   "metadata": {
    "collapsed": true
   },
   "outputs": [],
   "source": [
    "cVille_preprocessed_df = pd.read_csv('./Datasets/charlottesville_preprocessed.csv', sep='\\t')\n",
    "womenMarch_preprocessed_df = pd.read_csv('./Datasets/womenMarch_preprocessed.csv', sep='\\t')"
   ]
  },
  {
   "cell_type": "markdown",
   "metadata": {},
   "source": [
    "Handle NaN values. Replace them with empty string in filteredText column"
   ]
  },
  {
   "cell_type": "code",
   "execution_count": 14,
   "metadata": {},
   "outputs": [
    {
     "name": "stdout",
     "output_type": "stream",
     "text": [
      "<class 'pandas.core.frame.DataFrame'>\n",
      "RangeIndex: 154020 entries, 0 to 154019\n",
      "Data columns (total 13 columns):\n",
      "id               154020 non-null int64\n",
      "date             154020 non-null object\n",
      "filteredText     153959 non-null object\n",
      "hashtags         143978 non-null object\n",
      "favorites        154020 non-null int64\n",
      "retweets         154020 non-null int64\n",
      "mention_count    154020 non-null int64\n",
      "hashtag_count    154020 non-null int64\n",
      "pos_emoji        154020 non-null int64\n",
      "neg_emoji        154020 non-null int64\n",
      "punc_excl        154020 non-null int64\n",
      "punc_ques        154020 non-null int64\n",
      "violent          154020 non-null int64\n",
      "dtypes: int64(10), object(3)\n",
      "memory usage: 15.3+ MB\n",
      "<class 'pandas.core.frame.DataFrame'>\n",
      "RangeIndex: 154020 entries, 0 to 154019\n",
      "Data columns (total 13 columns):\n",
      "id               154020 non-null int64\n",
      "date             154020 non-null object\n",
      "filteredText     154020 non-null object\n",
      "hashtags         154020 non-null object\n",
      "favorites        154020 non-null int64\n",
      "retweets         154020 non-null int64\n",
      "mention_count    154020 non-null int64\n",
      "hashtag_count    154020 non-null int64\n",
      "pos_emoji        154020 non-null int64\n",
      "neg_emoji        154020 non-null int64\n",
      "punc_excl        154020 non-null int64\n",
      "punc_ques        154020 non-null int64\n",
      "violent          154020 non-null int64\n",
      "dtypes: int64(10), object(3)\n",
      "memory usage: 15.3+ MB\n"
     ]
    }
   ],
   "source": [
    "cVille_preprocessed_df.info()\n",
    "cVille_preprocessed_df['filteredText'].fillna(\"\", inplace=True)\n",
    "cVille_preprocessed_df['hashtags'].fillna(\"\", inplace=True)\n",
    "cVille_preprocessed_df.info()"
   ]
  },
  {
   "cell_type": "code",
   "execution_count": 15,
   "metadata": {},
   "outputs": [
    {
     "name": "stdout",
     "output_type": "stream",
     "text": [
      "<class 'pandas.core.frame.DataFrame'>\n",
      "RangeIndex: 109967 entries, 0 to 109966\n",
      "Data columns (total 13 columns):\n",
      "id               109967 non-null int64\n",
      "date             109967 non-null object\n",
      "filteredText     109828 non-null object\n",
      "hashtags         109967 non-null object\n",
      "favorites        109967 non-null int64\n",
      "retweets         109967 non-null int64\n",
      "mention_count    109967 non-null int64\n",
      "hashtag_count    109967 non-null int64\n",
      "pos_emoji        109967 non-null int64\n",
      "neg_emoji        109967 non-null int64\n",
      "punc_excl        109967 non-null int64\n",
      "punc_ques        109967 non-null int64\n",
      "violent          109967 non-null int64\n",
      "dtypes: int64(10), object(3)\n",
      "memory usage: 10.9+ MB\n",
      "<class 'pandas.core.frame.DataFrame'>\n",
      "RangeIndex: 109967 entries, 0 to 109966\n",
      "Data columns (total 13 columns):\n",
      "id               109967 non-null int64\n",
      "date             109967 non-null object\n",
      "filteredText     109967 non-null object\n",
      "hashtags         109967 non-null object\n",
      "favorites        109967 non-null int64\n",
      "retweets         109967 non-null int64\n",
      "mention_count    109967 non-null int64\n",
      "hashtag_count    109967 non-null int64\n",
      "pos_emoji        109967 non-null int64\n",
      "neg_emoji        109967 non-null int64\n",
      "punc_excl        109967 non-null int64\n",
      "punc_ques        109967 non-null int64\n",
      "violent          109967 non-null int64\n",
      "dtypes: int64(10), object(3)\n",
      "memory usage: 10.9+ MB\n"
     ]
    }
   ],
   "source": [
    "womenMarch_preprocessed_df.info()\n",
    "womenMarch_preprocessed_df['hashtags'].fillna(\"\", inplace=True)\n",
    "womenMarch_preprocessed_df['filteredText'].fillna(\"\", inplace=True)\n",
    "womenMarch_preprocessed_df.info()"
   ]
  },
  {
   "cell_type": "code",
   "execution_count": 16,
   "metadata": {},
   "outputs": [
    {
     "data": {
      "text/html": [
       "<div>\n",
       "<style>\n",
       "    .dataframe thead tr:only-child th {\n",
       "        text-align: right;\n",
       "    }\n",
       "\n",
       "    .dataframe thead th {\n",
       "        text-align: left;\n",
       "    }\n",
       "\n",
       "    .dataframe tbody tr th {\n",
       "        vertical-align: top;\n",
       "    }\n",
       "</style>\n",
       "<table border=\"1\" class=\"dataframe\">\n",
       "  <thead>\n",
       "    <tr style=\"text-align: right;\">\n",
       "      <th></th>\n",
       "      <th>id</th>\n",
       "      <th>date</th>\n",
       "      <th>filteredText</th>\n",
       "      <th>hashtags</th>\n",
       "      <th>favorites</th>\n",
       "      <th>retweets</th>\n",
       "      <th>mention_count</th>\n",
       "      <th>hashtag_count</th>\n",
       "      <th>pos_emoji</th>\n",
       "      <th>neg_emoji</th>\n",
       "      <th>punc_excl</th>\n",
       "      <th>punc_ques</th>\n",
       "      <th>violent</th>\n",
       "    </tr>\n",
       "  </thead>\n",
       "  <tbody>\n",
       "    <tr>\n",
       "      <th>0</th>\n",
       "      <td>921443913398972416</td>\n",
       "      <td>2017-10-20</td>\n",
       "      <td>can we make our message any clearer?</td>\n",
       "      <td>#MeToo #EndRapeCulture #NotOkay #WhyIMarch</td>\n",
       "      <td>0</td>\n",
       "      <td>1</td>\n",
       "      <td>0</td>\n",
       "      <td>4</td>\n",
       "      <td>0</td>\n",
       "      <td>0</td>\n",
       "      <td>0</td>\n",
       "      <td>0</td>\n",
       "      <td>0</td>\n",
       "    </tr>\n",
       "    <tr>\n",
       "      <th>1</th>\n",
       "      <td>921204515738546176</td>\n",
       "      <td>2017-10-19</td>\n",
       "      <td>anyone who doesn't support affordable  is not ...</td>\n",
       "      <td>#birthcontrol #prolife #ProofIsInThePudding #W...</td>\n",
       "      <td>1</td>\n",
       "      <td>1</td>\n",
       "      <td>0</td>\n",
       "      <td>5</td>\n",
       "      <td>0</td>\n",
       "      <td>0</td>\n",
       "      <td>0</td>\n",
       "      <td>0</td>\n",
       "      <td>0</td>\n",
       "    </tr>\n",
       "    <tr>\n",
       "      <th>2</th>\n",
       "      <td>921100053720256514</td>\n",
       "      <td>2017-10-19</td>\n",
       "      <td>each and every day for</td>\n",
       "      <td>#WhyIMarch #RacialJustice #M4RJ #BlackLivesMatter</td>\n",
       "      <td>0</td>\n",
       "      <td>2</td>\n",
       "      <td>0</td>\n",
       "      <td>4</td>\n",
       "      <td>0</td>\n",
       "      <td>0</td>\n",
       "      <td>0</td>\n",
       "      <td>0</td>\n",
       "      <td>0</td>\n",
       "    </tr>\n",
       "    <tr>\n",
       "      <th>3</th>\n",
       "      <td>920843500781953024</td>\n",
       "      <td>2017-10-18</td>\n",
       "      <td>because  deserve a livable future.</td>\n",
       "      <td>#whyimarch #youth</td>\n",
       "      <td>0</td>\n",
       "      <td>1</td>\n",
       "      <td>1</td>\n",
       "      <td>2</td>\n",
       "      <td>0</td>\n",
       "      <td>0</td>\n",
       "      <td>0</td>\n",
       "      <td>0</td>\n",
       "      <td>0</td>\n",
       "    </tr>\n",
       "    <tr>\n",
       "      <th>4</th>\n",
       "      <td>920765197605855232</td>\n",
       "      <td>2017-10-18</td>\n",
       "      <td>started a conversation with my daughter  . i ...</td>\n",
       "      <td>#MeToo #WhyIMarch #ShePersisted</td>\n",
       "      <td>2</td>\n",
       "      <td>3</td>\n",
       "      <td>1</td>\n",
       "      <td>3</td>\n",
       "      <td>0</td>\n",
       "      <td>0</td>\n",
       "      <td>0</td>\n",
       "      <td>0</td>\n",
       "      <td>0</td>\n",
       "    </tr>\n",
       "  </tbody>\n",
       "</table>\n",
       "</div>"
      ],
      "text/plain": [
       "                   id        date  \\\n",
       "0  921443913398972416  2017-10-20   \n",
       "1  921204515738546176  2017-10-19   \n",
       "2  921100053720256514  2017-10-19   \n",
       "3  920843500781953024  2017-10-18   \n",
       "4  920765197605855232  2017-10-18   \n",
       "\n",
       "                                        filteredText  \\\n",
       "0             can we make our message any clearer?     \n",
       "1  anyone who doesn't support affordable  is not ...   \n",
       "2                           each and every day for     \n",
       "3                because  deserve a livable future.    \n",
       "4   started a conversation with my daughter  . i ...   \n",
       "\n",
       "                                            hashtags  favorites  retweets  \\\n",
       "0         #MeToo #EndRapeCulture #NotOkay #WhyIMarch          0         1   \n",
       "1  #birthcontrol #prolife #ProofIsInThePudding #W...          1         1   \n",
       "2  #WhyIMarch #RacialJustice #M4RJ #BlackLivesMatter          0         2   \n",
       "3                                  #whyimarch #youth          0         1   \n",
       "4                    #MeToo #WhyIMarch #ShePersisted          2         3   \n",
       "\n",
       "   mention_count  hashtag_count  pos_emoji  neg_emoji  punc_excl  punc_ques  \\\n",
       "0              0              4          0          0          0          0   \n",
       "1              0              5          0          0          0          0   \n",
       "2              0              4          0          0          0          0   \n",
       "3              1              2          0          0          0          0   \n",
       "4              1              3          0          0          0          0   \n",
       "\n",
       "   violent  \n",
       "0        0  \n",
       "1        0  \n",
       "2        0  \n",
       "3        0  \n",
       "4        0  "
      ]
     },
     "execution_count": 16,
     "metadata": {},
     "output_type": "execute_result"
    }
   ],
   "source": [
    "womenMarch_preprocessed_df.head()"
   ]
  },
  {
   "cell_type": "code",
   "execution_count": 19,
   "metadata": {
    "collapsed": true
   },
   "outputs": [],
   "source": [
    "# below is part of preprocessing\n",
    "def feature_reduced_text(text, stop_words, lemmatizer):\n",
    "    # tokenization\n",
    "    tokens = word_tokenize(text)\n",
    "\n",
    "    # remove stopwords from text\n",
    "    tokens = [token for token in tokens if token not in stop_words]\n",
    "\n",
    "    # lemmatization\n",
    "    tokens = [lemmatizer.lemmatize(token) for token in tokens]\n",
    "\n",
    "    # pos tagging\n",
    "    pos_tags = nltk.pos_tag(tokens)\n",
    "    \n",
    "    # return only relevant words (adjective, verb, adverb, noun with all of their variations)\n",
    "    return ' '.join([tag[0] for tag in pos_tags if tag[1] in ['JJ', 'JJR', 'JJS', 'NN', 'NNP', 'NNS', 'NNP', 'NNPS', 'RB', 'RBR', 'RBS', 'VB', 'VBG', 'VBD', 'VBN', 'VBP', 'VBZ']])"
   ]
  },
  {
   "cell_type": "code",
   "execution_count": 20,
   "metadata": {},
   "outputs": [],
   "source": [
    "stops = set(stopwords.words('english'))\n",
    "# We will use not for negation (may not be perfect but decent enough)\n",
    "stops.remove('not')\n",
    "word_lemmatizer = WordNetLemmatizer()\n",
    "\n",
    "cVille_preprocessed_df['preprocessedText'] = [feature_reduced_text(text, stop_words=stops, lemmatizer=word_lemmatizer) for text in cVille_preprocessed_df['filteredText'].tolist()]\n",
    "womenMarch_preprocessed_df['preprocessedText'] = [feature_reduced_text(text, stop_words=stops, lemmatizer=word_lemmatizer) for text in womenMarch_preprocessed_df['filteredText'].tolist()]"
   ]
  },
  {
   "cell_type": "markdown",
   "metadata": {},
   "source": [
    "Start Data transformation (negation handling, sentiment/polarity score and feature extraction)"
   ]
  },
  {
   "cell_type": "code",
   "execution_count": 21,
   "metadata": {
    "collapsed": true
   },
   "outputs": [],
   "source": [
    "# Negation handling (replace (isn't, ain't, haven't etc with not. stop words don't matter anyways))\n",
    "\n",
    "def getNegationHandledText(text):\n",
    "    negation_pattern = re.compile(r\"(\\w*)n't \")\n",
    "    cleanedText = re.sub(negation_pattern, 'not ', text)\n",
    "    \n",
    "    # phrase occuring after not (combine all sub phrases to one phrase)\n",
    "    negationSplit = cleanedText.split(' not ')\n",
    "    positivePhrase = negationSplit[0]\n",
    "    negativePhrase = ' '.join(negationSplit[1:])\n",
    "                       \n",
    "    # return words with _NEG appended to them\n",
    "    if negativePhrase:\n",
    "        return ' '.join([positivePhrase, ' '.join([word + \"_NEG\" for word in negativePhrase.split(' ') if word != \" \"])])\n",
    "    else:\n",
    "        return text"
   ]
  },
  {
   "cell_type": "code",
   "execution_count": 22,
   "metadata": {
    "collapsed": true
   },
   "outputs": [],
   "source": [
    "# add negation handled text to Charlottesville df\n",
    "cVille_preprocessed_df['negationText'] = [getNegationHandledText(text) for text in cVille_preprocessed_df['preprocessedText']]\n",
    "\n",
    "# add negation handled text to Women March df\n",
    "womenMarch_preprocessed_df['negationText'] = [getNegationHandledText(text) for text in womenMarch_preprocessed_df['preprocessedText']]"
   ]
  },
  {
   "cell_type": "code",
   "execution_count": 23,
   "metadata": {
    "collapsed": true
   },
   "outputs": [],
   "source": [
    "# Get sentiment score for hashtag sentences\n",
    "def hashtag_sentiment_score(hashtags):\n",
    "    # Convert hashtag to words/sentences\n",
    "    def hashtagToSentence(hashtag):\n",
    "        return \" \".join([word for word in re.split('([A-Z][a-z]+)', hashtag) if word])\n",
    "    \n",
    "    scores = [vaderAnalyzer.polarity_scores(hashtagToSentence(hashtag))['compound'] for hashtag in hashtags]\n",
    "    return scores\n",
    "\n",
    "def sentiment_score(tweet, analyzer):\n",
    "    hashtag_scores = hashtag_sentiment_score(tweet['hashtags'].split())\n",
    "    text_sentiment_score = analyzer.polarity_scores(tweet['preprocessedText'])['compound']\n",
    "    \n",
    "    normalized_score = (np.sum(hashtag_scores) + text_sentiment_score) / (len(hashtag_scores) + 1)\n",
    "    return normalized_score"
   ]
  },
  {
   "cell_type": "markdown",
   "metadata": {},
   "source": [
    "Calculate sentiment score/polarity calculation. Here, we use two methods to calculate polarity scores.\n",
    "1. Vader Sentiment Intensity Analyzer that takes care of negation and is built for messy social media data like Twitter\n",
    "2. Our approach to negate the polarities of words existing after not (not itself is not considered in this case)"
   ]
  },
  {
   "cell_type": "code",
   "execution_count": 24,
   "metadata": {
    "collapsed": true
   },
   "outputs": [],
   "source": [
    "# Part 1 - Calculate Vader score for text\n",
    "vaderAnalyzer = SentimentIntensityAnalyzer()\n",
    "\n",
    "cVille_preprocessed_df['vaderTextScore'] = [vaderAnalyzer.polarity_scores(text)['compound'] for text in cVille_preprocessed_df['preprocessedText']]\n",
    "womenMarch_preprocessed_df['vaderTextScore'] = [vaderAnalyzer.polarity_scores(text)['compound'] for text in womenMarch_preprocessed_df['preprocessedText']]\n",
    "\n",
    "# Part 2 - Calculate _NEG handled score\n",
    "\n",
    "# Calculate normalized sentiment score with Vader (both text and hashtags)\n",
    "cVille_preprocessed_df['vaderScore'] = [sentiment_score(row, vaderAnalyzer) for index, row in cVille_preprocessed_df.iterrows()]\n",
    "womenMarch_preprocessed_df['vaderScore'] = [sentiment_score(row, vaderAnalyzer) for index, row in womenMarch_preprocessed_df.iterrows()]"
   ]
  },
  {
   "cell_type": "code",
   "execution_count": 25,
   "metadata": {},
   "outputs": [
    {
     "data": {
      "text/html": [
       "<div>\n",
       "<style>\n",
       "    .dataframe thead tr:only-child th {\n",
       "        text-align: right;\n",
       "    }\n",
       "\n",
       "    .dataframe thead th {\n",
       "        text-align: left;\n",
       "    }\n",
       "\n",
       "    .dataframe tbody tr th {\n",
       "        vertical-align: top;\n",
       "    }\n",
       "</style>\n",
       "<table border=\"1\" class=\"dataframe\">\n",
       "  <thead>\n",
       "    <tr style=\"text-align: right;\">\n",
       "      <th></th>\n",
       "      <th>id</th>\n",
       "      <th>date</th>\n",
       "      <th>filteredText</th>\n",
       "      <th>hashtags</th>\n",
       "      <th>favorites</th>\n",
       "      <th>retweets</th>\n",
       "      <th>mention_count</th>\n",
       "      <th>hashtag_count</th>\n",
       "      <th>pos_emoji</th>\n",
       "      <th>neg_emoji</th>\n",
       "      <th>punc_excl</th>\n",
       "      <th>punc_ques</th>\n",
       "      <th>violent</th>\n",
       "      <th>preprocessedText</th>\n",
       "      <th>vaderTextScore</th>\n",
       "      <th>vaderScore</th>\n",
       "    </tr>\n",
       "  </thead>\n",
       "  <tbody>\n",
       "    <tr>\n",
       "      <th>0</th>\n",
       "      <td>884925177917845504</td>\n",
       "      <td>2017-07-11</td>\n",
       "      <td>de blasio’s trip was approved for ‘city purpos...</td>\n",
       "      <td>#commies #antifa</td>\n",
       "      <td>0</td>\n",
       "      <td>2</td>\n",
       "      <td>0</td>\n",
       "      <td>2</td>\n",
       "      <td>0</td>\n",
       "      <td>0</td>\n",
       "      <td>0</td>\n",
       "      <td>0</td>\n",
       "      <td>1</td>\n",
       "      <td>’ trip approved ‘ city purpose ’ bashing trump...</td>\n",
       "      <td>0.4215</td>\n",
       "      <td>0.140500</td>\n",
       "    </tr>\n",
       "    <tr>\n",
       "      <th>1</th>\n",
       "      <td>884924281951576064</td>\n",
       "      <td>2017-07-11</td>\n",
       "      <td>alt-right trump-supporting neo-nazi confirmed.</td>\n",
       "      <td></td>\n",
       "      <td>0</td>\n",
       "      <td>0</td>\n",
       "      <td>0</td>\n",
       "      <td>0</td>\n",
       "      <td>0</td>\n",
       "      <td>0</td>\n",
       "      <td>0</td>\n",
       "      <td>0</td>\n",
       "      <td>1</td>\n",
       "      <td>alt-right trump-supporting neo-nazi confirmed</td>\n",
       "      <td>0.0000</td>\n",
       "      <td>0.000000</td>\n",
       "    </tr>\n",
       "    <tr>\n",
       "      <th>2</th>\n",
       "      <td>884923880938328066</td>\n",
       "      <td>2017-07-11</td>\n",
       "      <td>this. kills me. i remember seeing  around duri...</td>\n",
       "      <td>#RobertGrodt #Occupy #BijiRojava #antifa</td>\n",
       "      <td>7</td>\n",
       "      <td>4</td>\n",
       "      <td>0</td>\n",
       "      <td>4</td>\n",
       "      <td>0</td>\n",
       "      <td>0</td>\n",
       "      <td>0</td>\n",
       "      <td>0</td>\n",
       "      <td>1</td>\n",
       "      <td>kill remember seeing around rest power comrade</td>\n",
       "      <td>-0.6908</td>\n",
       "      <td>-0.138160</td>\n",
       "    </tr>\n",
       "    <tr>\n",
       "      <th>3</th>\n",
       "      <td>884923588960280576</td>\n",
       "      <td>2017-07-11</td>\n",
       "      <td>is resorting to violence and unrest to silenc...</td>\n",
       "      <td>#antifa</td>\n",
       "      <td>0</td>\n",
       "      <td>0</td>\n",
       "      <td>0</td>\n",
       "      <td>1</td>\n",
       "      <td>0</td>\n",
       "      <td>0</td>\n",
       "      <td>0</td>\n",
       "      <td>0</td>\n",
       "      <td>1</td>\n",
       "      <td>resorting violence unrest silence opposition f...</td>\n",
       "      <td>-0.8271</td>\n",
       "      <td>-0.413550</td>\n",
       "    </tr>\n",
       "    <tr>\n",
       "      <th>4</th>\n",
       "      <td>884922175748059136</td>\n",
       "      <td>2017-07-11</td>\n",
       "      <td>neo-nazi  july 12th internet-wide day of act...</td>\n",
       "      <td>#Politics #Collusion #NetNeutrality</td>\n",
       "      <td>0</td>\n",
       "      <td>1</td>\n",
       "      <td>1</td>\n",
       "      <td>3</td>\n",
       "      <td>0</td>\n",
       "      <td>0</td>\n",
       "      <td>0</td>\n",
       "      <td>0</td>\n",
       "      <td>1</td>\n",
       "      <td>neo-nazi july internet-wide day action save</td>\n",
       "      <td>0.4939</td>\n",
       "      <td>0.123475</td>\n",
       "    </tr>\n",
       "  </tbody>\n",
       "</table>\n",
       "</div>"
      ],
      "text/plain": [
       "                   id        date  \\\n",
       "0  884925177917845504  2017-07-11   \n",
       "1  884924281951576064  2017-07-11   \n",
       "2  884923880938328066  2017-07-11   \n",
       "3  884923588960280576  2017-07-11   \n",
       "4  884922175748059136  2017-07-11   \n",
       "\n",
       "                                        filteredText  \\\n",
       "0  de blasio’s trip was approved for ‘city purpos...   \n",
       "1     alt-right trump-supporting neo-nazi confirmed.   \n",
       "2  this. kills me. i remember seeing  around duri...   \n",
       "3   is resorting to violence and unrest to silenc...   \n",
       "4    neo-nazi  july 12th internet-wide day of act...   \n",
       "\n",
       "                                   hashtags  favorites  retweets  \\\n",
       "0                          #commies #antifa          0         2   \n",
       "1                                                    0         0   \n",
       "2  #RobertGrodt #Occupy #BijiRojava #antifa          7         4   \n",
       "3                                   #antifa          0         0   \n",
       "4       #Politics #Collusion #NetNeutrality          0         1   \n",
       "\n",
       "   mention_count  hashtag_count  pos_emoji  neg_emoji  punc_excl  punc_ques  \\\n",
       "0              0              2          0          0          0          0   \n",
       "1              0              0          0          0          0          0   \n",
       "2              0              4          0          0          0          0   \n",
       "3              0              1          0          0          0          0   \n",
       "4              1              3          0          0          0          0   \n",
       "\n",
       "   violent                                   preprocessedText  vaderTextScore  \\\n",
       "0        1  ’ trip approved ‘ city purpose ’ bashing trump...          0.4215   \n",
       "1        1      alt-right trump-supporting neo-nazi confirmed          0.0000   \n",
       "2        1     kill remember seeing around rest power comrade         -0.6908   \n",
       "3        1  resorting violence unrest silence opposition f...         -0.8271   \n",
       "4        1        neo-nazi july internet-wide day action save          0.4939   \n",
       "\n",
       "   vaderScore  \n",
       "0    0.140500  \n",
       "1    0.000000  \n",
       "2   -0.138160  \n",
       "3   -0.413550  \n",
       "4    0.123475  "
      ]
     },
     "execution_count": 25,
     "metadata": {},
     "output_type": "execute_result"
    }
   ],
   "source": [
    "cVille_preprocessed_df.drop(['negationText'], axis=1, inplace=True)\n",
    "womenMarch_preprocessed_df.drop(['negationText'], axis=1, inplace=True)\n",
    "\n",
    "cVille_preprocessed_df.head()"
   ]
  },
  {
   "cell_type": "code",
   "execution_count": 26,
   "metadata": {},
   "outputs": [
    {
     "data": {
      "text/html": [
       "<div>\n",
       "<style>\n",
       "    .dataframe thead tr:only-child th {\n",
       "        text-align: right;\n",
       "    }\n",
       "\n",
       "    .dataframe thead th {\n",
       "        text-align: left;\n",
       "    }\n",
       "\n",
       "    .dataframe tbody tr th {\n",
       "        vertical-align: top;\n",
       "    }\n",
       "</style>\n",
       "<table border=\"1\" class=\"dataframe\">\n",
       "  <thead>\n",
       "    <tr style=\"text-align: right;\">\n",
       "      <th></th>\n",
       "      <th>id</th>\n",
       "      <th>date</th>\n",
       "      <th>filteredText</th>\n",
       "      <th>hashtags</th>\n",
       "      <th>favorites</th>\n",
       "      <th>retweets</th>\n",
       "      <th>mention_count</th>\n",
       "      <th>hashtag_count</th>\n",
       "      <th>pos_emoji</th>\n",
       "      <th>neg_emoji</th>\n",
       "      <th>punc_excl</th>\n",
       "      <th>punc_ques</th>\n",
       "      <th>violent</th>\n",
       "      <th>preprocessedText</th>\n",
       "      <th>vaderTextScore</th>\n",
       "      <th>vaderScore</th>\n",
       "    </tr>\n",
       "  </thead>\n",
       "  <tbody>\n",
       "    <tr>\n",
       "      <th>0</th>\n",
       "      <td>921443913398972416</td>\n",
       "      <td>2017-10-20</td>\n",
       "      <td>can we make our message any clearer?</td>\n",
       "      <td>#MeToo #EndRapeCulture #NotOkay #WhyIMarch</td>\n",
       "      <td>0</td>\n",
       "      <td>1</td>\n",
       "      <td>0</td>\n",
       "      <td>4</td>\n",
       "      <td>0</td>\n",
       "      <td>0</td>\n",
       "      <td>0</td>\n",
       "      <td>0</td>\n",
       "      <td>0</td>\n",
       "      <td>make message clearer</td>\n",
       "      <td>0.0000</td>\n",
       "      <td>-0.172060</td>\n",
       "    </tr>\n",
       "    <tr>\n",
       "      <th>1</th>\n",
       "      <td>921204515738546176</td>\n",
       "      <td>2017-10-19</td>\n",
       "      <td>anyone who doesn't support affordable  is not ...</td>\n",
       "      <td>#birthcontrol #prolife #ProofIsInThePudding #W...</td>\n",
       "      <td>1</td>\n",
       "      <td>1</td>\n",
       "      <td>0</td>\n",
       "      <td>5</td>\n",
       "      <td>0</td>\n",
       "      <td>0</td>\n",
       "      <td>0</td>\n",
       "      <td>0</td>\n",
       "      <td>0</td>\n",
       "      <td>anyone n't support affordable not</td>\n",
       "      <td>-0.3089</td>\n",
       "      <td>-0.051483</td>\n",
       "    </tr>\n",
       "    <tr>\n",
       "      <th>2</th>\n",
       "      <td>921100053720256514</td>\n",
       "      <td>2017-10-19</td>\n",
       "      <td>each and every day for</td>\n",
       "      <td>#WhyIMarch #RacialJustice #M4RJ #BlackLivesMatter</td>\n",
       "      <td>0</td>\n",
       "      <td>2</td>\n",
       "      <td>0</td>\n",
       "      <td>4</td>\n",
       "      <td>0</td>\n",
       "      <td>0</td>\n",
       "      <td>0</td>\n",
       "      <td>0</td>\n",
       "      <td>0</td>\n",
       "      <td>day</td>\n",
       "      <td>0.0000</td>\n",
       "      <td>0.110500</td>\n",
       "    </tr>\n",
       "    <tr>\n",
       "      <th>3</th>\n",
       "      <td>920843500781953024</td>\n",
       "      <td>2017-10-18</td>\n",
       "      <td>because  deserve a livable future.</td>\n",
       "      <td>#whyimarch #youth</td>\n",
       "      <td>0</td>\n",
       "      <td>1</td>\n",
       "      <td>1</td>\n",
       "      <td>2</td>\n",
       "      <td>0</td>\n",
       "      <td>0</td>\n",
       "      <td>0</td>\n",
       "      <td>0</td>\n",
       "      <td>0</td>\n",
       "      <td>deserve livable future</td>\n",
       "      <td>0.0000</td>\n",
       "      <td>0.000000</td>\n",
       "    </tr>\n",
       "    <tr>\n",
       "      <th>4</th>\n",
       "      <td>920765197605855232</td>\n",
       "      <td>2017-10-18</td>\n",
       "      <td>started a conversation with my daughter  . i ...</td>\n",
       "      <td>#MeToo #WhyIMarch #ShePersisted</td>\n",
       "      <td>2</td>\n",
       "      <td>3</td>\n",
       "      <td>1</td>\n",
       "      <td>3</td>\n",
       "      <td>0</td>\n",
       "      <td>0</td>\n",
       "      <td>0</td>\n",
       "      <td>0</td>\n",
       "      <td>0</td>\n",
       "      <td>started conversation daughter pray never exper...</td>\n",
       "      <td>0.6310</td>\n",
       "      <td>0.157750</td>\n",
       "    </tr>\n",
       "  </tbody>\n",
       "</table>\n",
       "</div>"
      ],
      "text/plain": [
       "                   id        date  \\\n",
       "0  921443913398972416  2017-10-20   \n",
       "1  921204515738546176  2017-10-19   \n",
       "2  921100053720256514  2017-10-19   \n",
       "3  920843500781953024  2017-10-18   \n",
       "4  920765197605855232  2017-10-18   \n",
       "\n",
       "                                        filteredText  \\\n",
       "0             can we make our message any clearer?     \n",
       "1  anyone who doesn't support affordable  is not ...   \n",
       "2                           each and every day for     \n",
       "3                because  deserve a livable future.    \n",
       "4   started a conversation with my daughter  . i ...   \n",
       "\n",
       "                                            hashtags  favorites  retweets  \\\n",
       "0         #MeToo #EndRapeCulture #NotOkay #WhyIMarch          0         1   \n",
       "1  #birthcontrol #prolife #ProofIsInThePudding #W...          1         1   \n",
       "2  #WhyIMarch #RacialJustice #M4RJ #BlackLivesMatter          0         2   \n",
       "3                                  #whyimarch #youth          0         1   \n",
       "4                    #MeToo #WhyIMarch #ShePersisted          2         3   \n",
       "\n",
       "   mention_count  hashtag_count  pos_emoji  neg_emoji  punc_excl  punc_ques  \\\n",
       "0              0              4          0          0          0          0   \n",
       "1              0              5          0          0          0          0   \n",
       "2              0              4          0          0          0          0   \n",
       "3              1              2          0          0          0          0   \n",
       "4              1              3          0          0          0          0   \n",
       "\n",
       "   violent                                   preprocessedText  vaderTextScore  \\\n",
       "0        0                               make message clearer          0.0000   \n",
       "1        0                  anyone n't support affordable not         -0.3089   \n",
       "2        0                                                day          0.0000   \n",
       "3        0                             deserve livable future          0.0000   \n",
       "4        0  started conversation daughter pray never exper...          0.6310   \n",
       "\n",
       "   vaderScore  \n",
       "0   -0.172060  \n",
       "1   -0.051483  \n",
       "2    0.110500  \n",
       "3    0.000000  \n",
       "4    0.157750  "
      ]
     },
     "execution_count": 26,
     "metadata": {},
     "output_type": "execute_result"
    }
   ],
   "source": [
    "womenMarch_preprocessed_df.head()"
   ]
  },
  {
   "cell_type": "code",
   "execution_count": 27,
   "metadata": {
    "collapsed": true
   },
   "outputs": [],
   "source": [
    "def getDays(dateStrings, finalDateStr):\n",
    "    dateFormat = '%Y-%m-%d'\n",
    "    \n",
    "    def dateFromStr(dStr):\n",
    "        return datetime.strptime(dStr, dateFormat)\n",
    "    \n",
    "    finalDate = dateFromStr(finalDateStr)   \n",
    "    return [(finalDate - dateFromStr(dateStr)).days for dateStr in dateStrings]"
   ]
  },
  {
   "cell_type": "markdown",
   "metadata": {},
   "source": [
    "Remove entries which are during the events as they dont help in predicting (discuss with the team)"
   ]
  },
  {
   "cell_type": "code",
   "execution_count": 28,
   "metadata": {
    "collapsed": true
   },
   "outputs": [],
   "source": [
    "# get days\n",
    "cVille_preprocessed_df['days_to_event'] = getDays(cVille_preprocessed_df['date'], '2017-08-11')\n",
    "womenMarch_preprocessed_df['days_to_event'] = getDays(womenMarch_preprocessed_df['date'], '2017-01-21')\n",
    "\n",
    "# get relevant data\n",
    "cVille_preprocessed_relevant_df = cVille_preprocessed_df[(cVille_preprocessed_df.days_to_event <= 60) & (cVille_preprocessed_df.days_to_event > 0)]\n",
    "womenMarch_preprocessed_relevant_df = womenMarch_preprocessed_df[(womenMarch_preprocessed_df.days_to_event <= 60) & (womenMarch_preprocessed_df.days_to_event > 0)]"
   ]
  },
  {
   "cell_type": "code",
   "execution_count": 26,
   "metadata": {
    "collapsed": true
   },
   "outputs": [],
   "source": [
    "# import collections\n",
    "# collections.Counter(womenMarch_preprocessed_relevant_df['date'])"
   ]
  },
  {
   "cell_type": "markdown",
   "metadata": {},
   "source": [
    "Feature Extraction\n",
    "\n",
    "1. Tf-idf vectorizer\n",
    "2. Subset relevant features in a data frame"
   ]
  },
  {
   "cell_type": "code",
   "execution_count": 29,
   "metadata": {},
   "outputs": [
    {
     "name": "stdout",
     "output_type": "stream",
     "text": [
      "<class 'pandas.core.frame.DataFrame'>\n",
      "Int64Index: 30636 entries, 0 to 154019\n",
      "Data columns (total 15 columns):\n",
      "id                  30636 non-null int64\n",
      "date                30636 non-null object\n",
      "days_to_event       30636 non-null int64\n",
      "preprocessedText    30636 non-null object\n",
      "favorites           30636 non-null int64\n",
      "retweets            30636 non-null int64\n",
      "mention_count       30636 non-null int64\n",
      "hashtag_count       30636 non-null int64\n",
      "pos_emoji           30636 non-null int64\n",
      "neg_emoji           30636 non-null int64\n",
      "punc_excl           30636 non-null int64\n",
      "punc_ques           30636 non-null int64\n",
      "vaderTextScore      30636 non-null float64\n",
      "vaderScore          30636 non-null float64\n",
      "violent             30636 non-null int64\n",
      "dtypes: float64(2), int64(11), object(2)\n",
      "memory usage: 3.7+ MB\n",
      "<class 'pandas.core.frame.DataFrame'>\n",
      "Int64Index: 29751 entries, 40121 to 109966\n",
      "Data columns (total 15 columns):\n",
      "id                  29751 non-null int64\n",
      "date                29751 non-null object\n",
      "days_to_event       29751 non-null int64\n",
      "preprocessedText    29751 non-null object\n",
      "favorites           29751 non-null int64\n",
      "retweets            29751 non-null int64\n",
      "mention_count       29751 non-null int64\n",
      "hashtag_count       29751 non-null int64\n",
      "pos_emoji           29751 non-null int64\n",
      "neg_emoji           29751 non-null int64\n",
      "punc_excl           29751 non-null int64\n",
      "punc_ques           29751 non-null int64\n",
      "vaderTextScore      29751 non-null float64\n",
      "vaderScore          29751 non-null float64\n",
      "violent             29751 non-null int64\n",
      "dtypes: float64(2), int64(11), object(2)\n",
      "memory usage: 3.6+ MB\n"
     ]
    }
   ],
   "source": [
    "cVille_features_df = cVille_preprocessed_relevant_df[['id', 'date', 'days_to_event', 'preprocessedText', 'favorites', 'retweets', 'mention_count', 'hashtag_count', 'pos_emoji', 'neg_emoji', 'punc_excl', 'punc_ques', 'vaderTextScore', 'vaderScore', 'violent']]\n",
    "womenMarch_features_df = womenMarch_preprocessed_relevant_df[['id', 'date', 'days_to_event', 'preprocessedText', 'favorites', 'retweets', 'mention_count', 'hashtag_count', 'pos_emoji', 'neg_emoji', 'punc_excl', 'punc_ques', 'vaderTextScore', 'vaderScore', 'violent']]\n",
    "\n",
    "cVille_features_df.info()\n",
    "womenMarch_features_df.info()"
   ]
  },
  {
   "cell_type": "code",
   "execution_count": 30,
   "metadata": {},
   "outputs": [
    {
     "data": {
      "text/html": [
       "<div>\n",
       "<style>\n",
       "    .dataframe thead tr:only-child th {\n",
       "        text-align: right;\n",
       "    }\n",
       "\n",
       "    .dataframe thead th {\n",
       "        text-align: left;\n",
       "    }\n",
       "\n",
       "    .dataframe tbody tr th {\n",
       "        vertical-align: top;\n",
       "    }\n",
       "</style>\n",
       "<table border=\"1\" class=\"dataframe\">\n",
       "  <thead>\n",
       "    <tr style=\"text-align: right;\">\n",
       "      <th></th>\n",
       "      <th>id</th>\n",
       "      <th>date</th>\n",
       "      <th>days_to_event</th>\n",
       "      <th>preprocessedText</th>\n",
       "      <th>favorites</th>\n",
       "      <th>retweets</th>\n",
       "      <th>mention_count</th>\n",
       "      <th>hashtag_count</th>\n",
       "      <th>pos_emoji</th>\n",
       "      <th>neg_emoji</th>\n",
       "      <th>punc_excl</th>\n",
       "      <th>punc_ques</th>\n",
       "      <th>vaderTextScore</th>\n",
       "      <th>vaderScore</th>\n",
       "      <th>violent</th>\n",
       "    </tr>\n",
       "  </thead>\n",
       "  <tbody>\n",
       "    <tr>\n",
       "      <th>0</th>\n",
       "      <td>884925177917845504</td>\n",
       "      <td>2017-07-11</td>\n",
       "      <td>31</td>\n",
       "      <td>’ trip approved ‘ city purpose ’ bashing trump...</td>\n",
       "      <td>0</td>\n",
       "      <td>2</td>\n",
       "      <td>0</td>\n",
       "      <td>2</td>\n",
       "      <td>0</td>\n",
       "      <td>0</td>\n",
       "      <td>0</td>\n",
       "      <td>0</td>\n",
       "      <td>0.4215</td>\n",
       "      <td>0.140500</td>\n",
       "      <td>1</td>\n",
       "    </tr>\n",
       "    <tr>\n",
       "      <th>1</th>\n",
       "      <td>884924281951576064</td>\n",
       "      <td>2017-07-11</td>\n",
       "      <td>31</td>\n",
       "      <td>alt-right trump-supporting neo-nazi confirmed</td>\n",
       "      <td>0</td>\n",
       "      <td>0</td>\n",
       "      <td>0</td>\n",
       "      <td>0</td>\n",
       "      <td>0</td>\n",
       "      <td>0</td>\n",
       "      <td>0</td>\n",
       "      <td>0</td>\n",
       "      <td>0.0000</td>\n",
       "      <td>0.000000</td>\n",
       "      <td>1</td>\n",
       "    </tr>\n",
       "    <tr>\n",
       "      <th>2</th>\n",
       "      <td>884923880938328066</td>\n",
       "      <td>2017-07-11</td>\n",
       "      <td>31</td>\n",
       "      <td>kill remember seeing around rest power comrade</td>\n",
       "      <td>7</td>\n",
       "      <td>4</td>\n",
       "      <td>0</td>\n",
       "      <td>4</td>\n",
       "      <td>0</td>\n",
       "      <td>0</td>\n",
       "      <td>0</td>\n",
       "      <td>0</td>\n",
       "      <td>-0.6908</td>\n",
       "      <td>-0.138160</td>\n",
       "      <td>1</td>\n",
       "    </tr>\n",
       "    <tr>\n",
       "      <th>3</th>\n",
       "      <td>884923588960280576</td>\n",
       "      <td>2017-07-11</td>\n",
       "      <td>31</td>\n",
       "      <td>resorting violence unrest silence opposition f...</td>\n",
       "      <td>0</td>\n",
       "      <td>0</td>\n",
       "      <td>0</td>\n",
       "      <td>1</td>\n",
       "      <td>0</td>\n",
       "      <td>0</td>\n",
       "      <td>0</td>\n",
       "      <td>0</td>\n",
       "      <td>-0.8271</td>\n",
       "      <td>-0.413550</td>\n",
       "      <td>1</td>\n",
       "    </tr>\n",
       "    <tr>\n",
       "      <th>4</th>\n",
       "      <td>884922175748059136</td>\n",
       "      <td>2017-07-11</td>\n",
       "      <td>31</td>\n",
       "      <td>neo-nazi july internet-wide day action save</td>\n",
       "      <td>0</td>\n",
       "      <td>1</td>\n",
       "      <td>1</td>\n",
       "      <td>3</td>\n",
       "      <td>0</td>\n",
       "      <td>0</td>\n",
       "      <td>0</td>\n",
       "      <td>0</td>\n",
       "      <td>0.4939</td>\n",
       "      <td>0.123475</td>\n",
       "      <td>1</td>\n",
       "    </tr>\n",
       "  </tbody>\n",
       "</table>\n",
       "</div>"
      ],
      "text/plain": [
       "                   id        date  days_to_event  \\\n",
       "0  884925177917845504  2017-07-11             31   \n",
       "1  884924281951576064  2017-07-11             31   \n",
       "2  884923880938328066  2017-07-11             31   \n",
       "3  884923588960280576  2017-07-11             31   \n",
       "4  884922175748059136  2017-07-11             31   \n",
       "\n",
       "                                    preprocessedText  favorites  retweets  \\\n",
       "0  ’ trip approved ‘ city purpose ’ bashing trump...          0         2   \n",
       "1      alt-right trump-supporting neo-nazi confirmed          0         0   \n",
       "2     kill remember seeing around rest power comrade          7         4   \n",
       "3  resorting violence unrest silence opposition f...          0         0   \n",
       "4        neo-nazi july internet-wide day action save          0         1   \n",
       "\n",
       "   mention_count  hashtag_count  pos_emoji  neg_emoji  punc_excl  punc_ques  \\\n",
       "0              0              2          0          0          0          0   \n",
       "1              0              0          0          0          0          0   \n",
       "2              0              4          0          0          0          0   \n",
       "3              0              1          0          0          0          0   \n",
       "4              1              3          0          0          0          0   \n",
       "\n",
       "   vaderTextScore  vaderScore  violent  \n",
       "0          0.4215    0.140500        1  \n",
       "1          0.0000    0.000000        1  \n",
       "2         -0.6908   -0.138160        1  \n",
       "3         -0.8271   -0.413550        1  \n",
       "4          0.4939    0.123475        1  "
      ]
     },
     "execution_count": 30,
     "metadata": {},
     "output_type": "execute_result"
    }
   ],
   "source": [
    "training_features_df = pd.concat([cVille_features_df, womenMarch_features_df])\n",
    "training_features_df.head()"
   ]
  },
  {
   "cell_type": "code",
   "execution_count": 31,
   "metadata": {},
   "outputs": [
    {
     "data": {
      "text/plain": [
       "(60387, 15)"
      ]
     },
     "execution_count": 31,
     "metadata": {},
     "output_type": "execute_result"
    }
   ],
   "source": [
    "training_features_df.shape"
   ]
  },
  {
   "cell_type": "code",
   "execution_count": 32,
   "metadata": {
    "collapsed": true
   },
   "outputs": [],
   "source": [
    "# use tf-idf vectorizer\n",
    "tv = TfidfVectorizer(stop_words='english', min_df=0.0005)\n",
    "tfidf_features = tv.fit_transform(training_features_df['preprocessedText'])"
   ]
  },
  {
   "cell_type": "code",
   "execution_count": 33,
   "metadata": {},
   "outputs": [
    {
     "data": {
      "text/plain": [
       "(60387, 1855)"
      ]
     },
     "execution_count": 33,
     "metadata": {},
     "output_type": "execute_result"
    }
   ],
   "source": [
    "tfidf_features.shape"
   ]
  },
  {
   "cell_type": "code",
   "execution_count": 32,
   "metadata": {
    "collapsed": true
   },
   "outputs": [],
   "source": [
    "# tv.vocabulary_"
   ]
  },
  {
   "cell_type": "code",
   "execution_count": 34,
   "metadata": {
    "collapsed": true
   },
   "outputs": [],
   "source": [
    "# create pandas dataframe from tfidf features\n",
    "tfidf_features_df = pd.DataFrame(tfidf_features.toarray())"
   ]
  },
  {
   "cell_type": "code",
   "execution_count": 35,
   "metadata": {
    "collapsed": true
   },
   "outputs": [],
   "source": [
    "# reset indices so that they can be concatenated into one dataframe\n",
    "temp_training_features_df = training_features_df.reset_index(drop=True)\n",
    "temp_tfidf_features_df = tfidf_features_df.reset_index(drop=True)\n",
    "\n",
    "final_training_features_df = pd.concat([temp_training_features_df, temp_tfidf_features_df], axis=1)"
   ]
  },
  {
   "cell_type": "code",
   "execution_count": 36,
   "metadata": {},
   "outputs": [
    {
     "data": {
      "text/plain": [
       "(60387, 1870)"
      ]
     },
     "execution_count": 36,
     "metadata": {},
     "output_type": "execute_result"
    }
   ],
   "source": [
    "final_training_features_df.shape"
   ]
  },
  {
   "cell_type": "code",
   "execution_count": 37,
   "metadata": {},
   "outputs": [
    {
     "data": {
      "text/html": [
       "<div>\n",
       "<style>\n",
       "    .dataframe thead tr:only-child th {\n",
       "        text-align: right;\n",
       "    }\n",
       "\n",
       "    .dataframe thead th {\n",
       "        text-align: left;\n",
       "    }\n",
       "\n",
       "    .dataframe tbody tr th {\n",
       "        vertical-align: top;\n",
       "    }\n",
       "</style>\n",
       "<table border=\"1\" class=\"dataframe\">\n",
       "  <thead>\n",
       "    <tr style=\"text-align: right;\">\n",
       "      <th></th>\n",
       "      <th>id</th>\n",
       "      <th>date</th>\n",
       "      <th>days_to_event</th>\n",
       "      <th>preprocessedText</th>\n",
       "      <th>favorites</th>\n",
       "      <th>retweets</th>\n",
       "      <th>mention_count</th>\n",
       "      <th>hashtag_count</th>\n",
       "      <th>pos_emoji</th>\n",
       "      <th>neg_emoji</th>\n",
       "      <th>...</th>\n",
       "      <th>1845</th>\n",
       "      <th>1846</th>\n",
       "      <th>1847</th>\n",
       "      <th>1848</th>\n",
       "      <th>1849</th>\n",
       "      <th>1850</th>\n",
       "      <th>1851</th>\n",
       "      <th>1852</th>\n",
       "      <th>1853</th>\n",
       "      <th>1854</th>\n",
       "    </tr>\n",
       "  </thead>\n",
       "  <tbody>\n",
       "    <tr>\n",
       "      <th>0</th>\n",
       "      <td>884925177917845504</td>\n",
       "      <td>2017-07-11</td>\n",
       "      <td>31</td>\n",
       "      <td>’ trip approved ‘ city purpose ’ bashing trump...</td>\n",
       "      <td>0</td>\n",
       "      <td>2</td>\n",
       "      <td>0</td>\n",
       "      <td>2</td>\n",
       "      <td>0</td>\n",
       "      <td>0</td>\n",
       "      <td>...</td>\n",
       "      <td>0.0</td>\n",
       "      <td>0.0</td>\n",
       "      <td>0.0</td>\n",
       "      <td>0.449947</td>\n",
       "      <td>0.0</td>\n",
       "      <td>0.0</td>\n",
       "      <td>0.0</td>\n",
       "      <td>0.0</td>\n",
       "      <td>0.0</td>\n",
       "      <td>0.0</td>\n",
       "    </tr>\n",
       "    <tr>\n",
       "      <th>1</th>\n",
       "      <td>884924281951576064</td>\n",
       "      <td>2017-07-11</td>\n",
       "      <td>31</td>\n",
       "      <td>alt-right trump-supporting neo-nazi confirmed</td>\n",
       "      <td>0</td>\n",
       "      <td>0</td>\n",
       "      <td>0</td>\n",
       "      <td>0</td>\n",
       "      <td>0</td>\n",
       "      <td>0</td>\n",
       "      <td>...</td>\n",
       "      <td>0.0</td>\n",
       "      <td>0.0</td>\n",
       "      <td>0.0</td>\n",
       "      <td>0.000000</td>\n",
       "      <td>0.0</td>\n",
       "      <td>0.0</td>\n",
       "      <td>0.0</td>\n",
       "      <td>0.0</td>\n",
       "      <td>0.0</td>\n",
       "      <td>0.0</td>\n",
       "    </tr>\n",
       "    <tr>\n",
       "      <th>2</th>\n",
       "      <td>884923880938328066</td>\n",
       "      <td>2017-07-11</td>\n",
       "      <td>31</td>\n",
       "      <td>kill remember seeing around rest power comrade</td>\n",
       "      <td>7</td>\n",
       "      <td>4</td>\n",
       "      <td>0</td>\n",
       "      <td>4</td>\n",
       "      <td>0</td>\n",
       "      <td>0</td>\n",
       "      <td>...</td>\n",
       "      <td>0.0</td>\n",
       "      <td>0.0</td>\n",
       "      <td>0.0</td>\n",
       "      <td>0.000000</td>\n",
       "      <td>0.0</td>\n",
       "      <td>0.0</td>\n",
       "      <td>0.0</td>\n",
       "      <td>0.0</td>\n",
       "      <td>0.0</td>\n",
       "      <td>0.0</td>\n",
       "    </tr>\n",
       "    <tr>\n",
       "      <th>3</th>\n",
       "      <td>884923588960280576</td>\n",
       "      <td>2017-07-11</td>\n",
       "      <td>31</td>\n",
       "      <td>resorting violence unrest silence opposition f...</td>\n",
       "      <td>0</td>\n",
       "      <td>0</td>\n",
       "      <td>0</td>\n",
       "      <td>1</td>\n",
       "      <td>0</td>\n",
       "      <td>0</td>\n",
       "      <td>...</td>\n",
       "      <td>0.0</td>\n",
       "      <td>0.0</td>\n",
       "      <td>0.0</td>\n",
       "      <td>0.000000</td>\n",
       "      <td>0.0</td>\n",
       "      <td>0.0</td>\n",
       "      <td>0.0</td>\n",
       "      <td>0.0</td>\n",
       "      <td>0.0</td>\n",
       "      <td>0.0</td>\n",
       "    </tr>\n",
       "    <tr>\n",
       "      <th>4</th>\n",
       "      <td>884922175748059136</td>\n",
       "      <td>2017-07-11</td>\n",
       "      <td>31</td>\n",
       "      <td>neo-nazi july internet-wide day action save</td>\n",
       "      <td>0</td>\n",
       "      <td>1</td>\n",
       "      <td>1</td>\n",
       "      <td>3</td>\n",
       "      <td>0</td>\n",
       "      <td>0</td>\n",
       "      <td>...</td>\n",
       "      <td>0.0</td>\n",
       "      <td>0.0</td>\n",
       "      <td>0.0</td>\n",
       "      <td>0.000000</td>\n",
       "      <td>0.0</td>\n",
       "      <td>0.0</td>\n",
       "      <td>0.0</td>\n",
       "      <td>0.0</td>\n",
       "      <td>0.0</td>\n",
       "      <td>0.0</td>\n",
       "    </tr>\n",
       "  </tbody>\n",
       "</table>\n",
       "<p>5 rows × 1870 columns</p>\n",
       "</div>"
      ],
      "text/plain": [
       "                   id        date  days_to_event  \\\n",
       "0  884925177917845504  2017-07-11             31   \n",
       "1  884924281951576064  2017-07-11             31   \n",
       "2  884923880938328066  2017-07-11             31   \n",
       "3  884923588960280576  2017-07-11             31   \n",
       "4  884922175748059136  2017-07-11             31   \n",
       "\n",
       "                                    preprocessedText  favorites  retweets  \\\n",
       "0  ’ trip approved ‘ city purpose ’ bashing trump...          0         2   \n",
       "1      alt-right trump-supporting neo-nazi confirmed          0         0   \n",
       "2     kill remember seeing around rest power comrade          7         4   \n",
       "3  resorting violence unrest silence opposition f...          0         0   \n",
       "4        neo-nazi july internet-wide day action save          0         1   \n",
       "\n",
       "   mention_count  hashtag_count  pos_emoji  neg_emoji  ...   1845  1846  1847  \\\n",
       "0              0              2          0          0  ...    0.0   0.0   0.0   \n",
       "1              0              0          0          0  ...    0.0   0.0   0.0   \n",
       "2              0              4          0          0  ...    0.0   0.0   0.0   \n",
       "3              0              1          0          0  ...    0.0   0.0   0.0   \n",
       "4              1              3          0          0  ...    0.0   0.0   0.0   \n",
       "\n",
       "       1848  1849  1850  1851  1852  1853  1854  \n",
       "0  0.449947   0.0   0.0   0.0   0.0   0.0   0.0  \n",
       "1  0.000000   0.0   0.0   0.0   0.0   0.0   0.0  \n",
       "2  0.000000   0.0   0.0   0.0   0.0   0.0   0.0  \n",
       "3  0.000000   0.0   0.0   0.0   0.0   0.0   0.0  \n",
       "4  0.000000   0.0   0.0   0.0   0.0   0.0   0.0  \n",
       "\n",
       "[5 rows x 1870 columns]"
      ]
     },
     "execution_count": 37,
     "metadata": {},
     "output_type": "execute_result"
    }
   ],
   "source": [
    "final_training_features_df.head()"
   ]
  },
  {
   "cell_type": "code",
   "execution_count": 38,
   "metadata": {
    "collapsed": true
   },
   "outputs": [],
   "source": [
    "# drop id, date and preprocessedText from final training set\n",
    "final_training_features_df.drop(['id', 'date', 'preprocessedText'], axis=1, inplace=True)"
   ]
  },
  {
   "cell_type": "code",
   "execution_count": 39,
   "metadata": {},
   "outputs": [
    {
     "data": {
      "text/html": [
       "<div>\n",
       "<style>\n",
       "    .dataframe thead tr:only-child th {\n",
       "        text-align: right;\n",
       "    }\n",
       "\n",
       "    .dataframe thead th {\n",
       "        text-align: left;\n",
       "    }\n",
       "\n",
       "    .dataframe tbody tr th {\n",
       "        vertical-align: top;\n",
       "    }\n",
       "</style>\n",
       "<table border=\"1\" class=\"dataframe\">\n",
       "  <thead>\n",
       "    <tr style=\"text-align: right;\">\n",
       "      <th></th>\n",
       "      <th>days_to_event</th>\n",
       "      <th>favorites</th>\n",
       "      <th>retweets</th>\n",
       "      <th>mention_count</th>\n",
       "      <th>hashtag_count</th>\n",
       "      <th>pos_emoji</th>\n",
       "      <th>neg_emoji</th>\n",
       "      <th>punc_excl</th>\n",
       "      <th>punc_ques</th>\n",
       "      <th>vaderTextScore</th>\n",
       "      <th>...</th>\n",
       "      <th>1845</th>\n",
       "      <th>1846</th>\n",
       "      <th>1847</th>\n",
       "      <th>1848</th>\n",
       "      <th>1849</th>\n",
       "      <th>1850</th>\n",
       "      <th>1851</th>\n",
       "      <th>1852</th>\n",
       "      <th>1853</th>\n",
       "      <th>1854</th>\n",
       "    </tr>\n",
       "  </thead>\n",
       "  <tbody>\n",
       "    <tr>\n",
       "      <th>0</th>\n",
       "      <td>31</td>\n",
       "      <td>0</td>\n",
       "      <td>2</td>\n",
       "      <td>0</td>\n",
       "      <td>2</td>\n",
       "      <td>0</td>\n",
       "      <td>0</td>\n",
       "      <td>0</td>\n",
       "      <td>0</td>\n",
       "      <td>0.4215</td>\n",
       "      <td>...</td>\n",
       "      <td>0.0</td>\n",
       "      <td>0.0</td>\n",
       "      <td>0.0</td>\n",
       "      <td>0.449947</td>\n",
       "      <td>0.0</td>\n",
       "      <td>0.0</td>\n",
       "      <td>0.0</td>\n",
       "      <td>0.0</td>\n",
       "      <td>0.0</td>\n",
       "      <td>0.0</td>\n",
       "    </tr>\n",
       "    <tr>\n",
       "      <th>1</th>\n",
       "      <td>31</td>\n",
       "      <td>0</td>\n",
       "      <td>0</td>\n",
       "      <td>0</td>\n",
       "      <td>0</td>\n",
       "      <td>0</td>\n",
       "      <td>0</td>\n",
       "      <td>0</td>\n",
       "      <td>0</td>\n",
       "      <td>0.0000</td>\n",
       "      <td>...</td>\n",
       "      <td>0.0</td>\n",
       "      <td>0.0</td>\n",
       "      <td>0.0</td>\n",
       "      <td>0.000000</td>\n",
       "      <td>0.0</td>\n",
       "      <td>0.0</td>\n",
       "      <td>0.0</td>\n",
       "      <td>0.0</td>\n",
       "      <td>0.0</td>\n",
       "      <td>0.0</td>\n",
       "    </tr>\n",
       "    <tr>\n",
       "      <th>2</th>\n",
       "      <td>31</td>\n",
       "      <td>7</td>\n",
       "      <td>4</td>\n",
       "      <td>0</td>\n",
       "      <td>4</td>\n",
       "      <td>0</td>\n",
       "      <td>0</td>\n",
       "      <td>0</td>\n",
       "      <td>0</td>\n",
       "      <td>-0.6908</td>\n",
       "      <td>...</td>\n",
       "      <td>0.0</td>\n",
       "      <td>0.0</td>\n",
       "      <td>0.0</td>\n",
       "      <td>0.000000</td>\n",
       "      <td>0.0</td>\n",
       "      <td>0.0</td>\n",
       "      <td>0.0</td>\n",
       "      <td>0.0</td>\n",
       "      <td>0.0</td>\n",
       "      <td>0.0</td>\n",
       "    </tr>\n",
       "    <tr>\n",
       "      <th>3</th>\n",
       "      <td>31</td>\n",
       "      <td>0</td>\n",
       "      <td>0</td>\n",
       "      <td>0</td>\n",
       "      <td>1</td>\n",
       "      <td>0</td>\n",
       "      <td>0</td>\n",
       "      <td>0</td>\n",
       "      <td>0</td>\n",
       "      <td>-0.8271</td>\n",
       "      <td>...</td>\n",
       "      <td>0.0</td>\n",
       "      <td>0.0</td>\n",
       "      <td>0.0</td>\n",
       "      <td>0.000000</td>\n",
       "      <td>0.0</td>\n",
       "      <td>0.0</td>\n",
       "      <td>0.0</td>\n",
       "      <td>0.0</td>\n",
       "      <td>0.0</td>\n",
       "      <td>0.0</td>\n",
       "    </tr>\n",
       "    <tr>\n",
       "      <th>4</th>\n",
       "      <td>31</td>\n",
       "      <td>0</td>\n",
       "      <td>1</td>\n",
       "      <td>1</td>\n",
       "      <td>3</td>\n",
       "      <td>0</td>\n",
       "      <td>0</td>\n",
       "      <td>0</td>\n",
       "      <td>0</td>\n",
       "      <td>0.4939</td>\n",
       "      <td>...</td>\n",
       "      <td>0.0</td>\n",
       "      <td>0.0</td>\n",
       "      <td>0.0</td>\n",
       "      <td>0.000000</td>\n",
       "      <td>0.0</td>\n",
       "      <td>0.0</td>\n",
       "      <td>0.0</td>\n",
       "      <td>0.0</td>\n",
       "      <td>0.0</td>\n",
       "      <td>0.0</td>\n",
       "    </tr>\n",
       "  </tbody>\n",
       "</table>\n",
       "<p>5 rows × 1867 columns</p>\n",
       "</div>"
      ],
      "text/plain": [
       "   days_to_event  favorites  retweets  mention_count  hashtag_count  \\\n",
       "0             31          0         2              0              2   \n",
       "1             31          0         0              0              0   \n",
       "2             31          7         4              0              4   \n",
       "3             31          0         0              0              1   \n",
       "4             31          0         1              1              3   \n",
       "\n",
       "   pos_emoji  neg_emoji  punc_excl  punc_ques  vaderTextScore  ...   1845  \\\n",
       "0          0          0          0          0          0.4215  ...    0.0   \n",
       "1          0          0          0          0          0.0000  ...    0.0   \n",
       "2          0          0          0          0         -0.6908  ...    0.0   \n",
       "3          0          0          0          0         -0.8271  ...    0.0   \n",
       "4          0          0          0          0          0.4939  ...    0.0   \n",
       "\n",
       "   1846  1847      1848  1849  1850  1851  1852  1853  1854  \n",
       "0   0.0   0.0  0.449947   0.0   0.0   0.0   0.0   0.0   0.0  \n",
       "1   0.0   0.0  0.000000   0.0   0.0   0.0   0.0   0.0   0.0  \n",
       "2   0.0   0.0  0.000000   0.0   0.0   0.0   0.0   0.0   0.0  \n",
       "3   0.0   0.0  0.000000   0.0   0.0   0.0   0.0   0.0   0.0  \n",
       "4   0.0   0.0  0.000000   0.0   0.0   0.0   0.0   0.0   0.0  \n",
       "\n",
       "[5 rows x 1867 columns]"
      ]
     },
     "execution_count": 39,
     "metadata": {},
     "output_type": "execute_result"
    }
   ],
   "source": [
    "final_training_features_df.head()"
   ]
  },
  {
   "cell_type": "code",
   "execution_count": 40,
   "metadata": {},
   "outputs": [
    {
     "name": "stdout",
     "output_type": "stream",
     "text": [
      "<class 'pandas.core.frame.DataFrame'>\n",
      "RangeIndex: 60387 entries, 0 to 60386\n",
      "Columns: 1867 entries, days_to_event to 1854\n",
      "dtypes: float64(1857), int64(10)\n",
      "memory usage: 860.2 MB\n"
     ]
    }
   ],
   "source": [
    "final_training_features_df.info()"
   ]
  },
  {
   "cell_type": "markdown",
   "metadata": {},
   "source": [
    "Data Exploration and Visualization"
   ]
  },
  {
   "cell_type": "code",
   "execution_count": 41,
   "metadata": {},
   "outputs": [
    {
     "data": {
      "text/html": [
       "<div>\n",
       "<style>\n",
       "    .dataframe thead tr:only-child th {\n",
       "        text-align: right;\n",
       "    }\n",
       "\n",
       "    .dataframe thead th {\n",
       "        text-align: left;\n",
       "    }\n",
       "\n",
       "    .dataframe tbody tr th {\n",
       "        vertical-align: top;\n",
       "    }\n",
       "</style>\n",
       "<table border=\"1\" class=\"dataframe\">\n",
       "  <thead>\n",
       "    <tr style=\"text-align: right;\">\n",
       "      <th></th>\n",
       "      <th>days_to_event</th>\n",
       "      <th>favorites</th>\n",
       "      <th>retweets</th>\n",
       "      <th>mention_count</th>\n",
       "      <th>hashtag_count</th>\n",
       "      <th>pos_emoji</th>\n",
       "      <th>neg_emoji</th>\n",
       "      <th>punc_excl</th>\n",
       "      <th>punc_ques</th>\n",
       "      <th>vaderTextScore</th>\n",
       "      <th>...</th>\n",
       "      <th>1845</th>\n",
       "      <th>1846</th>\n",
       "      <th>1847</th>\n",
       "      <th>1848</th>\n",
       "      <th>1849</th>\n",
       "      <th>1850</th>\n",
       "      <th>1851</th>\n",
       "      <th>1852</th>\n",
       "      <th>1853</th>\n",
       "      <th>1854</th>\n",
       "    </tr>\n",
       "  </thead>\n",
       "  <tbody>\n",
       "    <tr>\n",
       "      <th>count</th>\n",
       "      <td>60387.000000</td>\n",
       "      <td>60387.000000</td>\n",
       "      <td>60387.000000</td>\n",
       "      <td>60387.000000</td>\n",
       "      <td>60387.000000</td>\n",
       "      <td>60387.000000</td>\n",
       "      <td>60387.0</td>\n",
       "      <td>60387.000000</td>\n",
       "      <td>60387.000000</td>\n",
       "      <td>60387.000000</td>\n",
       "      <td>...</td>\n",
       "      <td>60387.000000</td>\n",
       "      <td>60387.000000</td>\n",
       "      <td>60387.000000</td>\n",
       "      <td>60387.000000</td>\n",
       "      <td>60387.000000</td>\n",
       "      <td>60387.000000</td>\n",
       "      <td>60387.000000</td>\n",
       "      <td>60387.000000</td>\n",
       "      <td>60387.000000</td>\n",
       "      <td>60387.000000</td>\n",
       "    </tr>\n",
       "    <tr>\n",
       "      <th>mean</th>\n",
       "      <td>20.636412</td>\n",
       "      <td>17.848825</td>\n",
       "      <td>8.525875</td>\n",
       "      <td>0.387252</td>\n",
       "      <td>2.133042</td>\n",
       "      <td>0.002269</td>\n",
       "      <td>0.0</td>\n",
       "      <td>0.018845</td>\n",
       "      <td>0.014308</td>\n",
       "      <td>0.014516</td>\n",
       "      <td>...</td>\n",
       "      <td>0.002826</td>\n",
       "      <td>0.000693</td>\n",
       "      <td>0.000310</td>\n",
       "      <td>0.000396</td>\n",
       "      <td>0.002770</td>\n",
       "      <td>0.000806</td>\n",
       "      <td>0.000351</td>\n",
       "      <td>0.000742</td>\n",
       "      <td>0.000250</td>\n",
       "      <td>0.000299</td>\n",
       "    </tr>\n",
       "    <tr>\n",
       "      <th>std</th>\n",
       "      <td>19.347051</td>\n",
       "      <td>270.022484</td>\n",
       "      <td>116.562345</td>\n",
       "      <td>0.829832</td>\n",
       "      <td>1.783077</td>\n",
       "      <td>0.047577</td>\n",
       "      <td>0.0</td>\n",
       "      <td>0.135979</td>\n",
       "      <td>0.118757</td>\n",
       "      <td>0.420837</td>\n",
       "      <td>...</td>\n",
       "      <td>0.042960</td>\n",
       "      <td>0.018535</td>\n",
       "      <td>0.012761</td>\n",
       "      <td>0.014783</td>\n",
       "      <td>0.036732</td>\n",
       "      <td>0.020912</td>\n",
       "      <td>0.013863</td>\n",
       "      <td>0.018324</td>\n",
       "      <td>0.011309</td>\n",
       "      <td>0.011749</td>\n",
       "    </tr>\n",
       "    <tr>\n",
       "      <th>min</th>\n",
       "      <td>1.000000</td>\n",
       "      <td>0.000000</td>\n",
       "      <td>0.000000</td>\n",
       "      <td>0.000000</td>\n",
       "      <td>0.000000</td>\n",
       "      <td>0.000000</td>\n",
       "      <td>0.0</td>\n",
       "      <td>0.000000</td>\n",
       "      <td>0.000000</td>\n",
       "      <td>-0.980500</td>\n",
       "      <td>...</td>\n",
       "      <td>0.000000</td>\n",
       "      <td>0.000000</td>\n",
       "      <td>0.000000</td>\n",
       "      <td>0.000000</td>\n",
       "      <td>0.000000</td>\n",
       "      <td>0.000000</td>\n",
       "      <td>0.000000</td>\n",
       "      <td>0.000000</td>\n",
       "      <td>0.000000</td>\n",
       "      <td>0.000000</td>\n",
       "    </tr>\n",
       "    <tr>\n",
       "      <th>25%</th>\n",
       "      <td>3.000000</td>\n",
       "      <td>1.000000</td>\n",
       "      <td>0.000000</td>\n",
       "      <td>0.000000</td>\n",
       "      <td>1.000000</td>\n",
       "      <td>0.000000</td>\n",
       "      <td>0.0</td>\n",
       "      <td>0.000000</td>\n",
       "      <td>0.000000</td>\n",
       "      <td>-0.205700</td>\n",
       "      <td>...</td>\n",
       "      <td>0.000000</td>\n",
       "      <td>0.000000</td>\n",
       "      <td>0.000000</td>\n",
       "      <td>0.000000</td>\n",
       "      <td>0.000000</td>\n",
       "      <td>0.000000</td>\n",
       "      <td>0.000000</td>\n",
       "      <td>0.000000</td>\n",
       "      <td>0.000000</td>\n",
       "      <td>0.000000</td>\n",
       "    </tr>\n",
       "    <tr>\n",
       "      <th>50%</th>\n",
       "      <td>14.000000</td>\n",
       "      <td>2.000000</td>\n",
       "      <td>1.000000</td>\n",
       "      <td>0.000000</td>\n",
       "      <td>2.000000</td>\n",
       "      <td>0.000000</td>\n",
       "      <td>0.0</td>\n",
       "      <td>0.000000</td>\n",
       "      <td>0.000000</td>\n",
       "      <td>0.000000</td>\n",
       "      <td>...</td>\n",
       "      <td>0.000000</td>\n",
       "      <td>0.000000</td>\n",
       "      <td>0.000000</td>\n",
       "      <td>0.000000</td>\n",
       "      <td>0.000000</td>\n",
       "      <td>0.000000</td>\n",
       "      <td>0.000000</td>\n",
       "      <td>0.000000</td>\n",
       "      <td>0.000000</td>\n",
       "      <td>0.000000</td>\n",
       "    </tr>\n",
       "    <tr>\n",
       "      <th>75%</th>\n",
       "      <td>35.000000</td>\n",
       "      <td>5.000000</td>\n",
       "      <td>2.000000</td>\n",
       "      <td>1.000000</td>\n",
       "      <td>3.000000</td>\n",
       "      <td>0.000000</td>\n",
       "      <td>0.0</td>\n",
       "      <td>0.000000</td>\n",
       "      <td>0.000000</td>\n",
       "      <td>0.318200</td>\n",
       "      <td>...</td>\n",
       "      <td>0.000000</td>\n",
       "      <td>0.000000</td>\n",
       "      <td>0.000000</td>\n",
       "      <td>0.000000</td>\n",
       "      <td>0.000000</td>\n",
       "      <td>0.000000</td>\n",
       "      <td>0.000000</td>\n",
       "      <td>0.000000</td>\n",
       "      <td>0.000000</td>\n",
       "      <td>0.000000</td>\n",
       "    </tr>\n",
       "    <tr>\n",
       "      <th>max</th>\n",
       "      <td>60.000000</td>\n",
       "      <td>25679.000000</td>\n",
       "      <td>9456.000000</td>\n",
       "      <td>14.000000</td>\n",
       "      <td>24.000000</td>\n",
       "      <td>1.000000</td>\n",
       "      <td>0.0</td>\n",
       "      <td>1.000000</td>\n",
       "      <td>1.000000</td>\n",
       "      <td>0.997200</td>\n",
       "      <td>...</td>\n",
       "      <td>1.000000</td>\n",
       "      <td>0.774776</td>\n",
       "      <td>0.730130</td>\n",
       "      <td>0.952887</td>\n",
       "      <td>0.735571</td>\n",
       "      <td>1.000000</td>\n",
       "      <td>0.804263</td>\n",
       "      <td>1.000000</td>\n",
       "      <td>0.864720</td>\n",
       "      <td>0.697594</td>\n",
       "    </tr>\n",
       "  </tbody>\n",
       "</table>\n",
       "<p>8 rows × 1867 columns</p>\n",
       "</div>"
      ],
      "text/plain": [
       "       days_to_event     favorites      retweets  mention_count  \\\n",
       "count   60387.000000  60387.000000  60387.000000   60387.000000   \n",
       "mean       20.636412     17.848825      8.525875       0.387252   \n",
       "std        19.347051    270.022484    116.562345       0.829832   \n",
       "min         1.000000      0.000000      0.000000       0.000000   \n",
       "25%         3.000000      1.000000      0.000000       0.000000   \n",
       "50%        14.000000      2.000000      1.000000       0.000000   \n",
       "75%        35.000000      5.000000      2.000000       1.000000   \n",
       "max        60.000000  25679.000000   9456.000000      14.000000   \n",
       "\n",
       "       hashtag_count     pos_emoji  neg_emoji     punc_excl     punc_ques  \\\n",
       "count   60387.000000  60387.000000    60387.0  60387.000000  60387.000000   \n",
       "mean        2.133042      0.002269        0.0      0.018845      0.014308   \n",
       "std         1.783077      0.047577        0.0      0.135979      0.118757   \n",
       "min         0.000000      0.000000        0.0      0.000000      0.000000   \n",
       "25%         1.000000      0.000000        0.0      0.000000      0.000000   \n",
       "50%         2.000000      0.000000        0.0      0.000000      0.000000   \n",
       "75%         3.000000      0.000000        0.0      0.000000      0.000000   \n",
       "max        24.000000      1.000000        0.0      1.000000      1.000000   \n",
       "\n",
       "       vaderTextScore      ...               1845          1846          1847  \\\n",
       "count    60387.000000      ...       60387.000000  60387.000000  60387.000000   \n",
       "mean         0.014516      ...           0.002826      0.000693      0.000310   \n",
       "std          0.420837      ...           0.042960      0.018535      0.012761   \n",
       "min         -0.980500      ...           0.000000      0.000000      0.000000   \n",
       "25%         -0.205700      ...           0.000000      0.000000      0.000000   \n",
       "50%          0.000000      ...           0.000000      0.000000      0.000000   \n",
       "75%          0.318200      ...           0.000000      0.000000      0.000000   \n",
       "max          0.997200      ...           1.000000      0.774776      0.730130   \n",
       "\n",
       "               1848          1849          1850          1851          1852  \\\n",
       "count  60387.000000  60387.000000  60387.000000  60387.000000  60387.000000   \n",
       "mean       0.000396      0.002770      0.000806      0.000351      0.000742   \n",
       "std        0.014783      0.036732      0.020912      0.013863      0.018324   \n",
       "min        0.000000      0.000000      0.000000      0.000000      0.000000   \n",
       "25%        0.000000      0.000000      0.000000      0.000000      0.000000   \n",
       "50%        0.000000      0.000000      0.000000      0.000000      0.000000   \n",
       "75%        0.000000      0.000000      0.000000      0.000000      0.000000   \n",
       "max        0.952887      0.735571      1.000000      0.804263      1.000000   \n",
       "\n",
       "               1853          1854  \n",
       "count  60387.000000  60387.000000  \n",
       "mean       0.000250      0.000299  \n",
       "std        0.011309      0.011749  \n",
       "min        0.000000      0.000000  \n",
       "25%        0.000000      0.000000  \n",
       "50%        0.000000      0.000000  \n",
       "75%        0.000000      0.000000  \n",
       "max        0.864720      0.697594  \n",
       "\n",
       "[8 rows x 1867 columns]"
      ]
     },
     "execution_count": 41,
     "metadata": {},
     "output_type": "execute_result"
    }
   ],
   "source": [
    "final_training_features_df.describe()"
   ]
  },
  {
   "cell_type": "code",
   "execution_count": 42,
   "metadata": {},
   "outputs": [
    {
     "data": {
      "text/plain": [
       "days_to_event  violent\n",
       "1              0          0.049750\n",
       "               1         -0.025316\n",
       "2              0          0.046614\n",
       "               1         -0.044225\n",
       "3              0          0.053238\n",
       "               1         -0.037141\n",
       "4              0          0.053704\n",
       "               1         -0.044754\n",
       "5              0          0.058626\n",
       "               1         -0.038870\n",
       "6              0          0.052644\n",
       "               1         -0.071775\n",
       "7              0          0.051603\n",
       "               1         -0.042214\n",
       "8              0          0.044503\n",
       "               1         -0.034448\n",
       "9              0          0.038151\n",
       "               1         -0.039580\n",
       "10             0          0.057710\n",
       "               1         -0.051179\n",
       "11             0          0.035761\n",
       "               1         -0.071852\n",
       "12             0          0.069940\n",
       "               1         -0.055113\n",
       "13             0          0.079391\n",
       "               1         -0.069485\n",
       "14             0          0.036559\n",
       "               1         -0.068992\n",
       "15             0          0.033696\n",
       "               1         -0.044869\n",
       "                            ...   \n",
       "44             1         -0.073423\n",
       "45             0          0.037614\n",
       "               1         -0.056743\n",
       "46             0          0.087837\n",
       "               1         -0.053409\n",
       "47             0          0.017481\n",
       "               1         -0.048043\n",
       "48             0          0.031986\n",
       "               1         -0.058652\n",
       "49             0          0.060396\n",
       "               1         -0.031295\n",
       "50             0         -0.037000\n",
       "               1         -0.042323\n",
       "51             0          0.114700\n",
       "               1         -0.079688\n",
       "52             1         -0.061201\n",
       "53             0         -0.056684\n",
       "               1         -0.063693\n",
       "54             0         -0.187957\n",
       "               1         -0.079456\n",
       "55             0          0.042153\n",
       "               1         -0.051501\n",
       "56             1         -0.076121\n",
       "57             0          0.277533\n",
       "               1         -0.096656\n",
       "58             1         -0.105521\n",
       "59             0          0.048867\n",
       "               1         -0.104595\n",
       "60             0          0.000000\n",
       "               1         -0.090329\n",
       "Name: vaderScore, Length: 117, dtype: float64"
      ]
     },
     "execution_count": 42,
     "metadata": {},
     "output_type": "execute_result"
    }
   ],
   "source": [
    "final_training_features_df.groupby(['days_to_event', 'violent'])['vaderScore'].mean()"
   ]
  },
  {
   "cell_type": "markdown",
   "metadata": {},
   "source": [
    "Checking the pattern of Vader Sentiment Score (Text + Hashtags) in 60 days before both the events"
   ]
  },
  {
   "cell_type": "code",
   "execution_count": 43,
   "metadata": {
    "collapsed": true
   },
   "outputs": [],
   "source": [
    "# get subset dataframe with days_to_event, vaderScore and violent label\n",
    "vader_df = final_training_features_df[['days_to_event', 'vaderScore', 'violent']].sort_values(by='days_to_event')"
   ]
  },
  {
   "cell_type": "code",
   "execution_count": 44,
   "metadata": {
    "collapsed": true
   },
   "outputs": [],
   "source": [
    "# split into violent and non-violent sub-dataframe\n",
    "vader_df_vio = vader_df[vader_df.violent == 1]\n",
    "vader_df_non = vader_df[vader_df.violent == 0]"
   ]
  },
  {
   "cell_type": "code",
   "execution_count": 45,
   "metadata": {
    "collapsed": true
   },
   "outputs": [],
   "source": [
    "def handleMissingDays(series):\n",
    "    series[52] = 0.0\n",
    "    series[56] = 0.0\n",
    "    series[58] = 0.0\n",
    "    return series.sort_index()"
   ]
  },
  {
   "cell_type": "code",
   "execution_count": 46,
   "metadata": {
    "collapsed": true
   },
   "outputs": [],
   "source": [
    "# violent mean\n",
    "vio_mean = vader_df_vio.groupby('days_to_event')['vaderScore'].mean()\n",
    "\n",
    "# non-violent mean\n",
    "non_mean = vader_df_non.groupby('days_to_event')['vaderScore'].mean()\n",
    "non_mean = handleMissingDays(non_mean)"
   ]
  },
  {
   "cell_type": "code",
   "execution_count": 47,
   "metadata": {},
   "outputs": [
    {
     "data": {
      "image/png": "[encoded data removed]",
      "text/plain": [
       "<matplotlib.figure.Figure at 0x13a142550>"
      ]
     },
     "metadata": {},
     "output_type": "display_data"
    }
   ],
   "source": [
    "# draw plot\n",
    "plt.bar(range(1,61), vio_mean, alpha=0.5, label='Charlottesville Protest')\n",
    "plt.bar(range(1,61), non_mean, alpha=0.5, label='Women March')\n",
    "plt.legend(loc='lower left')\n",
    "plt.show()"
   ]
  },
  {
   "cell_type": "markdown",
   "metadata": {},
   "source": [
    "We can see that Charlotessvile protest tweets were negative (on average) and Women March tweets were positive (on average) for 60 days before the events."
   ]
  },
  {
   "cell_type": "code",
   "execution_count": 48,
   "metadata": {},
   "outputs": [
    {
     "name": "stdout",
     "output_type": "stream",
     "text": [
      "0.862862056328\n",
      "0.0274773961666\n",
      "0.00251803000083\n"
     ]
    }
   ],
   "source": [
    "# calculate correlation between vaderScore and vaderTextScore\n",
    "setiment_corr = final_training_features_df['vaderScore'].corr(final_training_features_df['vaderTextScore'])\n",
    "print(setiment_corr)\n",
    "\n",
    "# calculate correlation between vaderScore and presence of exclamation marks\n",
    "excl_corr = final_training_features_df['vaderScore'].corr(final_training_features_df['punc_excl'])\n",
    "print(excl_corr)\n",
    "\n",
    "# calculate correlation between vaderScore and presence of question marks\n",
    "ques_corr = final_training_features_df['vaderScore'].corr(final_training_features_df['punc_ques'])\n",
    "print(ques_corr)"
   ]
  },
  {
   "cell_type": "markdown",
   "metadata": {},
   "source": [
    "As expected, Sentiment Score for tweet and hashtags is highly correlated with Sentiment Score of tweet text alone.\n",
    "However, there is no real correlation between sentiment score and presence of exclamation marks or question marks."
   ]
  },
  {
   "cell_type": "code",
   "execution_count": 49,
   "metadata": {},
   "outputs": [
    {
     "data": {
      "text/plain": [
       "pos_emoji\n",
       "0    60250\n",
       "1      137\n",
       "Name: pos_emoji, dtype: int64"
      ]
     },
     "execution_count": 49,
     "metadata": {},
     "output_type": "execute_result"
    }
   ],
   "source": [
    "final_training_features_df.groupby('pos_emoji')['pos_emoji'].count()"
   ]
  },
  {
   "cell_type": "code",
   "execution_count": 50,
   "metadata": {},
   "outputs": [
    {
     "data": {
      "text/plain": [
       "neg_emoji\n",
       "0    60387\n",
       "Name: neg_emoji, dtype: int64"
      ]
     },
     "execution_count": 50,
     "metadata": {},
     "output_type": "execute_result"
    }
   ],
   "source": [
    "final_training_features_df.groupby('neg_emoji')['neg_emoji'].count()"
   ]
  },
  {
   "cell_type": "markdown",
   "metadata": {},
   "source": [
    "pos_emoji and neg_emoji do not give any valuable information so we will not use it for our final models."
   ]
  },
  {
   "cell_type": "code",
   "execution_count": 51,
   "metadata": {
    "collapsed": true
   },
   "outputs": [],
   "source": [
    "exploratory_df = final_training_features_df[['days_to_event', 'favorites', 'mention_count', 'retweets', 'hashtag_count', 'violent']].sort_values(by='days_to_event')"
   ]
  },
  {
   "cell_type": "code",
   "execution_count": 52,
   "metadata": {
    "collapsed": true
   },
   "outputs": [],
   "source": [
    "exploratory_df_vio = exploratory_df[exploratory_df.violent == 1]\n",
    "exploratory_df_non = exploratory_df[exploratory_df.violent == 0]"
   ]
  },
  {
   "cell_type": "code",
   "execution_count": 53,
   "metadata": {},
   "outputs": [
    {
     "data": {
      "image/png": "[encoded data removed]",
      "text/plain": [
       "<matplotlib.figure.Figure at 0x13a0a3e48>"
      ]
     },
     "metadata": {},
     "output_type": "display_data"
    }
   ],
   "source": [
    "fav_vio_mean = exploratory_df_vio.groupby('days_to_event')['favorites'].mean()\n",
    "fav_non_mean = exploratory_df_non.groupby('days_to_event')['favorites'].mean()\n",
    "fav_non_mean = handleMissingDays(fav_non_mean)\n",
    "\n",
    "plt.bar(range(1,61), fav_vio_mean, alpha=0.5, label='Charlottesville Protest')\n",
    "plt.bar(range(1,61), fav_non_mean, alpha=0.5, label='Women March')\n",
    "plt.legend(loc='upper left')\n",
    "plt.show()"
   ]
  },
  {
   "cell_type": "markdown",
   "metadata": {},
   "source": [
    "Clearly, non-violent Women March tweets were favorited more on average as compared to Charlottesville tweets"
   ]
  },
  {
   "cell_type": "code",
   "execution_count": 54,
   "metadata": {},
   "outputs": [
    {
     "data": {
      "image/png": "[encoded data removed]",
      "text/plain": [
       "<matplotlib.figure.Figure at 0x13928e8d0>"
      ]
     },
     "metadata": {},
     "output_type": "display_data"
    }
   ],
   "source": [
    "retweet_vio_mean = exploratory_df_vio.groupby('days_to_event')['retweets'].mean()\n",
    "retweet_non_mean = exploratory_df_non.groupby('days_to_event')['retweets'].mean()\n",
    "retweet_non_mean = handleMissingDays(retweet_non_mean)\n",
    "\n",
    "plt.bar(range(1,61), retweet_vio_mean, alpha=0.5, label='Charlottesville Protest')\n",
    "plt.bar(range(1,61), retweet_non_mean, alpha=0.5, label='Women March')\n",
    "plt.legend(loc='upper left')\n",
    "plt.show()"
   ]
  },
  {
   "cell_type": "markdown",
   "metadata": {},
   "source": [
    "Both Charlottesville and Women March tweets were retweeted at a similar rate."
   ]
  },
  {
   "cell_type": "code",
   "execution_count": 55,
   "metadata": {},
   "outputs": [
    {
     "data": {
      "image/png": "[encoded data removed]",
      "text/plain": [
       "<matplotlib.figure.Figure at 0x13a1420b8>"
      ]
     },
     "metadata": {},
     "output_type": "display_data"
    }
   ],
   "source": [
    "mention_vio_mean = exploratory_df_vio.groupby('days_to_event')['mention_count'].mean()\n",
    "mention_non_mean = exploratory_df_non.groupby('days_to_event')['mention_count'].mean()\n",
    "mention_non_mean = handleMissingDays(retweet_non_mean)\n",
    "\n",
    "plt.bar(range(1,61), mention_vio_mean, alpha=0.5, label='Charlottesville Protest')\n",
    "plt.bar(range(1,61), mention_non_mean, alpha=0.5, label='Women March')\n",
    "plt.legend(loc='upper left')\n",
    "plt.show()"
   ]
  },
  {
   "cell_type": "markdown",
   "metadata": {},
   "source": [
    "There were hardly any mentions for Charlotteville protest tweets. However, on average mention count for Women March event tweets was on an upward trend leading upto the event."
   ]
  },
  {
   "cell_type": "code",
   "execution_count": 56,
   "metadata": {},
   "outputs": [
    {
     "data": {
      "image/png": "[encoded data removed]",
      "text/plain": [
       "<matplotlib.figure.Figure at 0x139fabe80>"
      ]
     },
     "metadata": {},
     "output_type": "display_data"
    }
   ],
   "source": [
    "hashtag_vio_mean = exploratory_df_vio.groupby('days_to_event')['hashtag_count'].mean()\n",
    "hashtag_non_mean = exploratory_df_non.groupby('days_to_event')['hashtag_count'].mean()\n",
    "hashtag_non_mean = handleMissingDays(hashtag_non_mean)\n",
    "\n",
    "plt.bar(range(1,61), hashtag_vio_mean, alpha=0.5, label='Charlottesville Protest')\n",
    "plt.bar(range(1,61), hashtag_non_mean, alpha=0.5, label='Women March')\n",
    "plt.legend(loc='upper left')\n",
    "plt.show()"
   ]
  },
  {
   "cell_type": "markdown",
   "metadata": {},
   "source": [
    "Hashtag count does not seem very interesting for analysis."
   ]
  },
  {
   "cell_type": "markdown",
   "metadata": {},
   "source": [
    "Another interesting thing is that Women March tweets got a lot of attention (mentions, retweets, favorites) on the 5oth day before the event for some reason."
   ]
  },
  {
   "cell_type": "markdown",
   "metadata": {},
   "source": [
    "Split Train data and Test data "
   ]
  },
  {
   "cell_type": "code",
   "execution_count": 57,
   "metadata": {},
   "outputs": [
    {
     "data": {
      "text/html": [
       "<div>\n",
       "<style>\n",
       "    .dataframe thead tr:only-child th {\n",
       "        text-align: right;\n",
       "    }\n",
       "\n",
       "    .dataframe thead th {\n",
       "        text-align: left;\n",
       "    }\n",
       "\n",
       "    .dataframe tbody tr th {\n",
       "        vertical-align: top;\n",
       "    }\n",
       "</style>\n",
       "<table border=\"1\" class=\"dataframe\">\n",
       "  <thead>\n",
       "    <tr style=\"text-align: right;\">\n",
       "      <th></th>\n",
       "      <th>days_to_event</th>\n",
       "      <th>favorites</th>\n",
       "      <th>retweets</th>\n",
       "      <th>mention_count</th>\n",
       "      <th>hashtag_count</th>\n",
       "      <th>pos_emoji</th>\n",
       "      <th>neg_emoji</th>\n",
       "      <th>punc_excl</th>\n",
       "      <th>punc_ques</th>\n",
       "      <th>vaderTextScore</th>\n",
       "      <th>...</th>\n",
       "      <th>1845</th>\n",
       "      <th>1846</th>\n",
       "      <th>1847</th>\n",
       "      <th>1848</th>\n",
       "      <th>1849</th>\n",
       "      <th>1850</th>\n",
       "      <th>1851</th>\n",
       "      <th>1852</th>\n",
       "      <th>1853</th>\n",
       "      <th>1854</th>\n",
       "    </tr>\n",
       "  </thead>\n",
       "  <tbody>\n",
       "    <tr>\n",
       "      <th>43492</th>\n",
       "      <td>18</td>\n",
       "      <td>7</td>\n",
       "      <td>6</td>\n",
       "      <td>0</td>\n",
       "      <td>2</td>\n",
       "      <td>0</td>\n",
       "      <td>0</td>\n",
       "      <td>0</td>\n",
       "      <td>0</td>\n",
       "      <td>0.6705</td>\n",
       "      <td>...</td>\n",
       "      <td>0.0</td>\n",
       "      <td>0.0</td>\n",
       "      <td>0.0</td>\n",
       "      <td>0.0</td>\n",
       "      <td>0.0</td>\n",
       "      <td>0.0</td>\n",
       "      <td>0.0</td>\n",
       "      <td>0.0</td>\n",
       "      <td>0.0</td>\n",
       "      <td>0.0</td>\n",
       "    </tr>\n",
       "    <tr>\n",
       "      <th>48760</th>\n",
       "      <td>1</td>\n",
       "      <td>2</td>\n",
       "      <td>0</td>\n",
       "      <td>0</td>\n",
       "      <td>2</td>\n",
       "      <td>0</td>\n",
       "      <td>0</td>\n",
       "      <td>0</td>\n",
       "      <td>0</td>\n",
       "      <td>0.0000</td>\n",
       "      <td>...</td>\n",
       "      <td>0.0</td>\n",
       "      <td>0.0</td>\n",
       "      <td>0.0</td>\n",
       "      <td>0.0</td>\n",
       "      <td>0.0</td>\n",
       "      <td>0.0</td>\n",
       "      <td>0.0</td>\n",
       "      <td>0.0</td>\n",
       "      <td>0.0</td>\n",
       "      <td>0.0</td>\n",
       "    </tr>\n",
       "    <tr>\n",
       "      <th>15962</th>\n",
       "      <td>59</td>\n",
       "      <td>1</td>\n",
       "      <td>0</td>\n",
       "      <td>1</td>\n",
       "      <td>12</td>\n",
       "      <td>0</td>\n",
       "      <td>0</td>\n",
       "      <td>1</td>\n",
       "      <td>0</td>\n",
       "      <td>0.0000</td>\n",
       "      <td>...</td>\n",
       "      <td>0.0</td>\n",
       "      <td>0.0</td>\n",
       "      <td>0.0</td>\n",
       "      <td>0.0</td>\n",
       "      <td>0.0</td>\n",
       "      <td>0.0</td>\n",
       "      <td>0.0</td>\n",
       "      <td>0.0</td>\n",
       "      <td>0.0</td>\n",
       "      <td>0.0</td>\n",
       "    </tr>\n",
       "    <tr>\n",
       "      <th>21152</th>\n",
       "      <td>7</td>\n",
       "      <td>0</td>\n",
       "      <td>0</td>\n",
       "      <td>0</td>\n",
       "      <td>1</td>\n",
       "      <td>0</td>\n",
       "      <td>0</td>\n",
       "      <td>0</td>\n",
       "      <td>0</td>\n",
       "      <td>0.0000</td>\n",
       "      <td>...</td>\n",
       "      <td>0.0</td>\n",
       "      <td>0.0</td>\n",
       "      <td>0.0</td>\n",
       "      <td>0.0</td>\n",
       "      <td>0.0</td>\n",
       "      <td>0.0</td>\n",
       "      <td>0.0</td>\n",
       "      <td>0.0</td>\n",
       "      <td>0.0</td>\n",
       "      <td>0.0</td>\n",
       "    </tr>\n",
       "    <tr>\n",
       "      <th>13258</th>\n",
       "      <td>56</td>\n",
       "      <td>0</td>\n",
       "      <td>0</td>\n",
       "      <td>1</td>\n",
       "      <td>1</td>\n",
       "      <td>0</td>\n",
       "      <td>0</td>\n",
       "      <td>0</td>\n",
       "      <td>0</td>\n",
       "      <td>-0.9169</td>\n",
       "      <td>...</td>\n",
       "      <td>0.0</td>\n",
       "      <td>0.0</td>\n",
       "      <td>0.0</td>\n",
       "      <td>0.0</td>\n",
       "      <td>0.0</td>\n",
       "      <td>0.0</td>\n",
       "      <td>0.0</td>\n",
       "      <td>0.0</td>\n",
       "      <td>0.0</td>\n",
       "      <td>0.0</td>\n",
       "    </tr>\n",
       "  </tbody>\n",
       "</table>\n",
       "<p>5 rows × 1867 columns</p>\n",
       "</div>"
      ],
      "text/plain": [
       "       days_to_event  favorites  retweets  mention_count  hashtag_count  \\\n",
       "43492             18          7         6              0              2   \n",
       "48760              1          2         0              0              2   \n",
       "15962             59          1         0              1             12   \n",
       "21152              7          0         0              0              1   \n",
       "13258             56          0         0              1              1   \n",
       "\n",
       "       pos_emoji  neg_emoji  punc_excl  punc_ques  vaderTextScore  ...   1845  \\\n",
       "43492          0          0          0          0          0.6705  ...    0.0   \n",
       "48760          0          0          0          0          0.0000  ...    0.0   \n",
       "15962          0          0          1          0          0.0000  ...    0.0   \n",
       "21152          0          0          0          0          0.0000  ...    0.0   \n",
       "13258          0          0          0          0         -0.9169  ...    0.0   \n",
       "\n",
       "       1846  1847  1848  1849  1850  1851  1852  1853  1854  \n",
       "43492   0.0   0.0   0.0   0.0   0.0   0.0   0.0   0.0   0.0  \n",
       "48760   0.0   0.0   0.0   0.0   0.0   0.0   0.0   0.0   0.0  \n",
       "15962   0.0   0.0   0.0   0.0   0.0   0.0   0.0   0.0   0.0  \n",
       "21152   0.0   0.0   0.0   0.0   0.0   0.0   0.0   0.0   0.0  \n",
       "13258   0.0   0.0   0.0   0.0   0.0   0.0   0.0   0.0   0.0  \n",
       "\n",
       "[5 rows x 1867 columns]"
      ]
     },
     "execution_count": 57,
     "metadata": {},
     "output_type": "execute_result"
    }
   ],
   "source": [
    "# shuffle dataset\n",
    "final_training_features = final_training_features_df.drop(['pos_emoji', 'neg_emoji'], axis=1)\n",
    "final_training_features_df = final_training_features_df.sample(frac=1, random_state=np.random.seed(1))\n",
    "final_training_features_df.head()"
   ]
  },
  {
   "cell_type": "code",
   "execution_count": 58,
   "metadata": {},
   "outputs": [
    {
     "data": {
      "text/html": [
       "<div>\n",
       "<style>\n",
       "    .dataframe thead tr:only-child th {\n",
       "        text-align: right;\n",
       "    }\n",
       "\n",
       "    .dataframe thead th {\n",
       "        text-align: left;\n",
       "    }\n",
       "\n",
       "    .dataframe tbody tr th {\n",
       "        vertical-align: top;\n",
       "    }\n",
       "</style>\n",
       "<table border=\"1\" class=\"dataframe\">\n",
       "  <thead>\n",
       "    <tr style=\"text-align: right;\">\n",
       "      <th></th>\n",
       "      <th>days_to_event</th>\n",
       "      <th>favorites</th>\n",
       "      <th>retweets</th>\n",
       "      <th>mention_count</th>\n",
       "      <th>hashtag_count</th>\n",
       "      <th>pos_emoji</th>\n",
       "      <th>neg_emoji</th>\n",
       "      <th>punc_excl</th>\n",
       "      <th>punc_ques</th>\n",
       "      <th>vaderTextScore</th>\n",
       "      <th>...</th>\n",
       "      <th>1845</th>\n",
       "      <th>1846</th>\n",
       "      <th>1847</th>\n",
       "      <th>1848</th>\n",
       "      <th>1849</th>\n",
       "      <th>1850</th>\n",
       "      <th>1851</th>\n",
       "      <th>1852</th>\n",
       "      <th>1853</th>\n",
       "      <th>1854</th>\n",
       "    </tr>\n",
       "  </thead>\n",
       "  <tbody>\n",
       "    <tr>\n",
       "      <th>50057</th>\n",
       "      <td>2</td>\n",
       "      <td>2</td>\n",
       "      <td>2</td>\n",
       "      <td>0</td>\n",
       "      <td>2</td>\n",
       "      <td>0</td>\n",
       "      <td>0</td>\n",
       "      <td>0</td>\n",
       "      <td>0</td>\n",
       "      <td>0.6575</td>\n",
       "      <td>...</td>\n",
       "      <td>0.0</td>\n",
       "      <td>0.0</td>\n",
       "      <td>0.0</td>\n",
       "      <td>0.0</td>\n",
       "      <td>0.0</td>\n",
       "      <td>0.0</td>\n",
       "      <td>0.0</td>\n",
       "      <td>0.0</td>\n",
       "      <td>0.0</td>\n",
       "      <td>0.0</td>\n",
       "    </tr>\n",
       "    <tr>\n",
       "      <th>32511</th>\n",
       "      <td>1</td>\n",
       "      <td>3</td>\n",
       "      <td>2</td>\n",
       "      <td>2</td>\n",
       "      <td>1</td>\n",
       "      <td>0</td>\n",
       "      <td>0</td>\n",
       "      <td>0</td>\n",
       "      <td>0</td>\n",
       "      <td>0.0000</td>\n",
       "      <td>...</td>\n",
       "      <td>0.0</td>\n",
       "      <td>0.0</td>\n",
       "      <td>0.0</td>\n",
       "      <td>0.0</td>\n",
       "      <td>0.0</td>\n",
       "      <td>0.0</td>\n",
       "      <td>0.0</td>\n",
       "      <td>0.0</td>\n",
       "      <td>0.0</td>\n",
       "      <td>0.0</td>\n",
       "    </tr>\n",
       "    <tr>\n",
       "      <th>5192</th>\n",
       "      <td>38</td>\n",
       "      <td>1</td>\n",
       "      <td>0</td>\n",
       "      <td>1</td>\n",
       "      <td>2</td>\n",
       "      <td>1</td>\n",
       "      <td>0</td>\n",
       "      <td>0</td>\n",
       "      <td>0</td>\n",
       "      <td>0.1027</td>\n",
       "      <td>...</td>\n",
       "      <td>0.0</td>\n",
       "      <td>0.0</td>\n",
       "      <td>0.0</td>\n",
       "      <td>0.0</td>\n",
       "      <td>0.0</td>\n",
       "      <td>0.0</td>\n",
       "      <td>0.0</td>\n",
       "      <td>0.0</td>\n",
       "      <td>0.0</td>\n",
       "      <td>0.0</td>\n",
       "    </tr>\n",
       "    <tr>\n",
       "      <th>12172</th>\n",
       "      <td>54</td>\n",
       "      <td>0</td>\n",
       "      <td>0</td>\n",
       "      <td>0</td>\n",
       "      <td>0</td>\n",
       "      <td>0</td>\n",
       "      <td>0</td>\n",
       "      <td>0</td>\n",
       "      <td>0</td>\n",
       "      <td>-0.4449</td>\n",
       "      <td>...</td>\n",
       "      <td>0.0</td>\n",
       "      <td>0.0</td>\n",
       "      <td>0.0</td>\n",
       "      <td>0.0</td>\n",
       "      <td>0.0</td>\n",
       "      <td>0.0</td>\n",
       "      <td>0.0</td>\n",
       "      <td>0.0</td>\n",
       "      <td>0.0</td>\n",
       "      <td>0.0</td>\n",
       "    </tr>\n",
       "    <tr>\n",
       "      <th>33003</th>\n",
       "      <td>1</td>\n",
       "      <td>1</td>\n",
       "      <td>0</td>\n",
       "      <td>0</td>\n",
       "      <td>1</td>\n",
       "      <td>0</td>\n",
       "      <td>0</td>\n",
       "      <td>0</td>\n",
       "      <td>0</td>\n",
       "      <td>-0.4019</td>\n",
       "      <td>...</td>\n",
       "      <td>0.0</td>\n",
       "      <td>0.0</td>\n",
       "      <td>0.0</td>\n",
       "      <td>0.0</td>\n",
       "      <td>0.0</td>\n",
       "      <td>0.0</td>\n",
       "      <td>0.0</td>\n",
       "      <td>0.0</td>\n",
       "      <td>0.0</td>\n",
       "      <td>0.0</td>\n",
       "    </tr>\n",
       "  </tbody>\n",
       "</table>\n",
       "<p>5 rows × 1867 columns</p>\n",
       "</div>"
      ],
      "text/plain": [
       "       days_to_event  favorites  retweets  mention_count  hashtag_count  \\\n",
       "50057              2          2         2              0              2   \n",
       "32511              1          3         2              2              1   \n",
       "5192              38          1         0              1              2   \n",
       "12172             54          0         0              0              0   \n",
       "33003              1          1         0              0              1   \n",
       "\n",
       "       pos_emoji  neg_emoji  punc_excl  punc_ques  vaderTextScore  ...   1845  \\\n",
       "50057          0          0          0          0          0.6575  ...    0.0   \n",
       "32511          0          0          0          0          0.0000  ...    0.0   \n",
       "5192           1          0          0          0          0.1027  ...    0.0   \n",
       "12172          0          0          0          0         -0.4449  ...    0.0   \n",
       "33003          0          0          0          0         -0.4019  ...    0.0   \n",
       "\n",
       "       1846  1847  1848  1849  1850  1851  1852  1853  1854  \n",
       "50057   0.0   0.0   0.0   0.0   0.0   0.0   0.0   0.0   0.0  \n",
       "32511   0.0   0.0   0.0   0.0   0.0   0.0   0.0   0.0   0.0  \n",
       "5192    0.0   0.0   0.0   0.0   0.0   0.0   0.0   0.0   0.0  \n",
       "12172   0.0   0.0   0.0   0.0   0.0   0.0   0.0   0.0   0.0  \n",
       "33003   0.0   0.0   0.0   0.0   0.0   0.0   0.0   0.0   0.0  \n",
       "\n",
       "[5 rows x 1867 columns]"
      ]
     },
     "execution_count": 58,
     "metadata": {},
     "output_type": "execute_result"
    }
   ],
   "source": [
    "final_training_features_df.tail()"
   ]
  },
  {
   "cell_type": "markdown",
   "metadata": {},
   "source": [
    "Final processed data"
   ]
  },
  {
   "cell_type": "code",
   "execution_count": 59,
   "metadata": {
    "collapsed": true
   },
   "outputs": [],
   "source": [
    "final_training_features_df.to_csv('./Datasets/social_unrest_processed.csv', sep='\\t', index=False)"
   ]
  },
  {
   "cell_type": "code",
   "execution_count": 60,
   "metadata": {
    "collapsed": true
   },
   "outputs": [],
   "source": [
    "Y = final_training_features_df['violent'] \n",
    "X = final_training_features_df.loc[:, final_training_features_df.columns != 'violent']"
   ]
  },
  {
   "cell_type": "code",
   "execution_count": 61,
   "metadata": {},
   "outputs": [
    {
     "name": "stdout",
     "output_type": "stream",
     "text": [
      "<class 'pandas.core.frame.DataFrame'>\n",
      "Int64Index: 60387 entries, 43492 to 33003\n",
      "Columns: 1866 entries, days_to_event to 1854\n",
      "dtypes: float64(1857), int64(9)\n",
      "memory usage: 860.2 MB\n"
     ]
    }
   ],
   "source": [
    "X.info()"
   ]
  },
  {
   "cell_type": "code",
   "execution_count": 62,
   "metadata": {},
   "outputs": [
    {
     "data": {
      "text/plain": [
       "43492    0\n",
       "48760    0\n",
       "15962    1\n",
       "21152    1\n",
       "13258    1\n",
       "Name: violent, dtype: int64"
      ]
     },
     "execution_count": 62,
     "metadata": {},
     "output_type": "execute_result"
    }
   ],
   "source": [
    "Y.head()"
   ]
  },
  {
   "cell_type": "markdown",
   "metadata": {},
   "source": [
    "Train test split"
   ]
  },
  {
   "cell_type": "code",
   "execution_count": 63,
   "metadata": {
    "collapsed": true
   },
   "outputs": [],
   "source": [
    "X_train, X_test, Y_train, Y_test = train_test_split(X, Y, test_size=0.2, random_state=np.random.seed(1))"
   ]
  },
  {
   "cell_type": "code",
   "execution_count": 64,
   "metadata": {},
   "outputs": [
    {
     "name": "stdout",
     "output_type": "stream",
     "text": [
      "(48309, 1866)\n",
      "(48309,)\n",
      "(12078, 1866)\n",
      "(12078,)\n"
     ]
    }
   ],
   "source": [
    "print(X_train.shape)\n",
    "print(Y_train.shape)\n",
    "print(X_test.shape)\n",
    "print(Y_test.shape)"
   ]
  },
  {
   "cell_type": "markdown",
   "metadata": {},
   "source": [
    "Testing with imbalanced data"
   ]
  },
  {
   "cell_type": "markdown",
   "metadata": {},
   "source": [
    "Calculate baseline"
   ]
  },
  {
   "cell_type": "code",
   "execution_count": 65,
   "metadata": {},
   "outputs": [
    {
     "name": "stdout",
     "output_type": "stream",
     "text": [
      "0.506385973628\n"
     ]
    }
   ],
   "source": [
    "print(np.mean(Y_train))"
   ]
  },
  {
   "cell_type": "markdown",
   "metadata": {},
   "source": [
    "seems like around 50.7% accuracy could be achieved by simply choosing majority class (not violent)."
   ]
  },
  {
   "cell_type": "markdown",
   "metadata": {},
   "source": [
    "Logistic Regression"
   ]
  },
  {
   "cell_type": "code",
   "execution_count": 66,
   "metadata": {},
   "outputs": [
    {
     "name": "stdout",
     "output_type": "stream",
     "text": [
      "0.924837938324\n"
     ]
    }
   ],
   "source": [
    "logistic_clf = LogisticRegression()\n",
    "logistic_score = cross_val_score(logistic_clf, X_train, Y_train, scoring='accuracy', cv=5)\n",
    "print(np.mean(logistic_score))"
   ]
  },
  {
   "cell_type": "markdown",
   "metadata": {},
   "source": [
    "Our model is better than baseline as it is above 92% accurate."
   ]
  },
  {
   "cell_type": "markdown",
   "metadata": {},
   "source": [
    "Naive Bayes' Model/Classifier"
   ]
  },
  {
   "cell_type": "code",
   "execution_count": 68,
   "metadata": {},
   "outputs": [
    {
     "name": "stdout",
     "output_type": "stream",
     "text": [
      "0.871017655309\n"
     ]
    }
   ],
   "source": [
    "nb_clf = BernoulliNB()\n",
    "nb_score = cross_val_score(nb_clf, X_train, Y_train, scoring='accuracy', cv=5)\n",
    "print(np.mean(nb_score))"
   ]
  },
  {
   "cell_type": "markdown",
   "metadata": {},
   "source": [
    "Our model is better than baseline as it gives around 87% accuracy."
   ]
  },
  {
   "cell_type": "markdown",
   "metadata": {},
   "source": [
    "SVM Classifier"
   ]
  },
  {
   "cell_type": "code",
   "execution_count": 69,
   "metadata": {},
   "outputs": [
    {
     "name": "stdout",
     "output_type": "stream",
     "text": [
      "0.834171795129\n"
     ]
    }
   ],
   "source": [
    "svm_clf = SVC()\n",
    "svm_score = cross_val_score(svm_clf, X_train, Y_train, scoring='accuracy', cv=5)\n",
    "print(np.mean(svm_score))"
   ]
  },
  {
   "cell_type": "markdown",
   "metadata": {},
   "source": [
    "Our model gives over 83% accuracy and is clearly better than baseline accuracy."
   ]
  },
  {
   "cell_type": "markdown",
   "metadata": {},
   "source": [
    "Neural Network Classifier"
   ]
  },
  {
   "cell_type": "code",
   "execution_count": 70,
   "metadata": {},
   "outputs": [
    {
     "name": "stdout",
     "output_type": "stream",
     "text": [
      "0.930012998191\n"
     ]
    }
   ],
   "source": [
    "from sklearn.neural_network import MLPClassifier\n",
    "\n",
    "nn_clf = MLPClassifier()\n",
    "nn_score = cross_val_score(nn_clf, X_train, Y_train, scoring='accuracy', cv=5)\n",
    "print(np.mean(nn_score))"
   ]
  },
  {
   "cell_type": "markdown",
   "metadata": {},
   "source": [
    "Our model is clearly better than baseline as it gives around 93% accuracy without tuning hyperparameters."
   ]
  },
  {
   "cell_type": "markdown",
   "metadata": {},
   "source": [
    "Final Accuracy Test"
   ]
  },
  {
   "cell_type": "code",
   "execution_count": 71,
   "metadata": {
    "collapsed": true
   },
   "outputs": [],
   "source": [
    "def evaluate(classifier, xTrain, yTrain, xTest, yTest):\n",
    "    classifier.fit(xTrain, yTrain)\n",
    "    yPred = classifier.predict(xTest)\n",
    "    accuracy = accuracy_score(yTest, yPred)\n",
    "    confusionMat = confusion_matrix(yTest, yPred)\n",
    "    f1 = f1_score(yTest, yPred)\n",
    "    return (accuracy, confusionMat, f1)"
   ]
  },
  {
   "cell_type": "markdown",
   "metadata": {
    "collapsed": true
   },
   "source": [
    "Accuracy prediction on test data"
   ]
  },
  {
   "cell_type": "code",
   "execution_count": 72,
   "metadata": {
    "collapsed": true
   },
   "outputs": [],
   "source": [
    "final_logistic_clf = LogisticRegression()\n",
    "final_nb_clf = BernoulliNB()\n",
    "final_nn_clf = MLPClassifier()\n",
    "\n",
    "logistic_evaluation = evaluate(final_logistic_clf, X_train, Y_train, X_test, Y_test)\n",
    "nb_evaluation = evaluate(final_nb_clf, X_train, Y_train, X_test, Y_test)\n",
    "nn_evaluation = evaluate(final_nn_clf, X_train, Y_train, X_test, Y_test)"
   ]
  },
  {
   "cell_type": "code",
   "execution_count": 73,
   "metadata": {},
   "outputs": [
    {
     "name": "stdout",
     "output_type": "stream",
     "text": [
      "Logistic Regression Accuracy:\n",
      "0.9258155323729094\n",
      "\n",
      "Logistic Regression F1 Score:\n",
      " 0.926048200726\n",
      "Logistic Regression Confusion Matrix:\n",
      "[[5572  333]\n",
      " [ 563 5610]]\n",
      "\n"
     ]
    },
    {
     "data": {
      "image/png": "[encoded data removed]",
      "text/plain": [
       "<matplotlib.figure.Figure at 0x13a2c0128>"
      ]
     },
     "metadata": {},
     "output_type": "display_data"
    }
   ],
   "source": [
    "# Logistic regression accuracy\n",
    "print(\"Logistic Regression Accuracy:\\n{}\\n\".format(logistic_evaluation[0]))\n",
    "print(\"Logistic Regression F1 Score:\\n\",logistic_evaluation[2])\n",
    "\n",
    "print(\"Logistic Regression Confusion Matrix:\\n{}\\n\".format(logistic_evaluation[1]))\n",
    "plt.matshow(logistic_evaluation[1], cmap='Purples')\n",
    "plt.colorbar()\n",
    "plt.show()"
   ]
  },
  {
   "cell_type": "markdown",
   "metadata": {},
   "source": [
    "Logistic Regression Model gives 92.5% accuracy with f1 score of 0.926"
   ]
  },
  {
   "cell_type": "code",
   "execution_count": 74,
   "metadata": {},
   "outputs": [
    {
     "name": "stdout",
     "output_type": "stream",
     "text": [
      "Neural Network Accuracy:\n",
      "0.930534856764365\n",
      "\n",
      "Neural Network F1 score:\n",
      " 0.931526972986\n",
      "Neural Network Confusion Matrix:\n",
      "[[5532  373]\n",
      " [ 466 5707]]\n",
      "\n"
     ]
    },
    {
     "data": {
      "image/png": "[encoded data removed]",
      "text/plain": [
       "<matplotlib.figure.Figure at 0x13a52add8>"
      ]
     },
     "metadata": {},
     "output_type": "display_data"
    }
   ],
   "source": [
    "# Neural Network accuracy\n",
    "print(\"Neural Network Accuracy:\\n{}\\n\".format(nn_evaluation[0]))\n",
    "print(\"Neural Network F1 score:\\n\",nn_evaluation[2])\n",
    "\n",
    "print(\"Neural Network Confusion Matrix:\\n{}\\n\".format(nn_evaluation[1]))\n",
    "plt.matshow(nn_evaluation[1], cmap='Purples')\n",
    "plt.colorbar()\n",
    "plt.show()"
   ]
  },
  {
   "cell_type": "markdown",
   "metadata": {},
   "source": [
    "Neural Network gives 93% accuracy with f1 score of 0.931"
   ]
  },
  {
   "cell_type": "code",
   "execution_count": 75,
   "metadata": {},
   "outputs": [
    {
     "name": "stdout",
     "output_type": "stream",
     "text": [
      "Naive Bayes' Accuracy:\n",
      "0.8692664348402054\n",
      "\n",
      "Naive Bayes' F1 Score: 0.862396514161\n",
      "Naive Bayes' Confusion Matrix:\n",
      "[[5551  354]\n",
      " [1225 4948]]\n",
      "\n"
     ]
    },
    {
     "data": {
      "image/png": "[encoded data removed]",
      "text/plain": [
       "<matplotlib.figure.Figure at 0x13a694320>"
      ]
     },
     "metadata": {},
     "output_type": "display_data"
    }
   ],
   "source": [
    "# Naive Bayes' accuracy\n",
    "print(\"Naive Bayes' Accuracy:\\n{}\\n\".format(nb_evaluation[0]))\n",
    "print(\"Naive Bayes' F1 Score:\",nb_evaluation[2])\n",
    "\n",
    "print(\"Naive Bayes' Confusion Matrix:\\n{}\\n\".format(nb_evaluation[1]))\n",
    "plt.matshow(nb_evaluation[1], cmap='Purples')\n",
    "plt.colorbar()\n",
    "plt.show()"
   ]
  },
  {
   "cell_type": "markdown",
   "metadata": {},
   "source": [
    "Naive Bayes' Model gives around 87% accuracy with f1 score of 0.862"
   ]
  },
  {
   "cell_type": "code",
   "execution_count": 76,
   "metadata": {
    "collapsed": true
   },
   "outputs": [],
   "source": [
    "final_svm_clf = SVC()\n",
    "svm_evaluation = evaluate(final_svm_clf, X_train, Y_train, X_test, Y_test)"
   ]
  },
  {
   "cell_type": "code",
   "execution_count": 77,
   "metadata": {},
   "outputs": [
    {
     "name": "stdout",
     "output_type": "stream",
     "text": [
      "SVM Accuracy:\n",
      "0.8372247060771651\n",
      "\n",
      "SVM F1 Score: 0.834706574744\n",
      "SVM Confusion Matrix:\n",
      "[[5148  757]\n",
      " [1209 4964]]\n",
      "\n"
     ]
    },
    {
     "data": {
      "image/png": "[encoded data removed]",
      "text/plain": [
       "<matplotlib.figure.Figure at 0x13992b978>"
      ]
     },
     "metadata": {},
     "output_type": "display_data"
    }
   ],
   "source": [
    "# SVM accuracy\n",
    "print(\"SVM Accuracy:\\n{}\\n\".format(svm_evaluation[0]))\n",
    "print(\"SVM F1 Score:\",svm_evaluation[2])\n",
    "\n",
    "print(\"SVM Confusion Matrix:\\n{}\\n\".format(svm_evaluation[1]))\n",
    "plt.matshow(svm_evaluation[1], cmap='Purples')\n",
    "plt.colorbar()\n",
    "plt.show()"
   ]
  },
  {
   "cell_type": "markdown",
   "metadata": {},
   "source": [
    "SVM gives over 83% accuracy with f1 score of 0.834"
   ]
  },
  {
   "cell_type": "markdown",
   "metadata": {},
   "source": [
    "Table for model performance"
   ]
  },
  {
   "cell_type": "code",
   "execution_count": 78,
   "metadata": {},
   "outputs": [
    {
     "data": {
      "text/html": [
       "<div>\n",
       "<style>\n",
       "    .dataframe thead tr:only-child th {\n",
       "        text-align: right;\n",
       "    }\n",
       "\n",
       "    .dataframe thead th {\n",
       "        text-align: left;\n",
       "    }\n",
       "\n",
       "    .dataframe tbody tr th {\n",
       "        vertical-align: top;\n",
       "    }\n",
       "</style>\n",
       "<table border=\"1\" class=\"dataframe\">\n",
       "  <thead>\n",
       "    <tr style=\"text-align: right;\">\n",
       "      <th></th>\n",
       "      <th>Accuracy</th>\n",
       "      <th>F1 Score</th>\n",
       "    </tr>\n",
       "    <tr>\n",
       "      <th>Model</th>\n",
       "      <th></th>\n",
       "      <th></th>\n",
       "    </tr>\n",
       "  </thead>\n",
       "  <tbody>\n",
       "    <tr>\n",
       "      <th>Logistic Regression</th>\n",
       "      <td>0.925816</td>\n",
       "      <td>0.926048</td>\n",
       "    </tr>\n",
       "    <tr>\n",
       "      <th>Naive Bayes'</th>\n",
       "      <td>0.869266</td>\n",
       "      <td>0.862397</td>\n",
       "    </tr>\n",
       "    <tr>\n",
       "      <th>SVM</th>\n",
       "      <td>0.837225</td>\n",
       "      <td>0.834707</td>\n",
       "    </tr>\n",
       "    <tr>\n",
       "      <th>Neural Network</th>\n",
       "      <td>0.930535</td>\n",
       "      <td>0.931527</td>\n",
       "    </tr>\n",
       "  </tbody>\n",
       "</table>\n",
       "</div>"
      ],
      "text/plain": [
       "                     Accuracy  F1 Score\n",
       "Model                                  \n",
       "Logistic Regression  0.925816  0.926048\n",
       "Naive Bayes'         0.869266  0.862397\n",
       "SVM                  0.837225  0.834707\n",
       "Neural Network       0.930535  0.931527"
      ]
     },
     "execution_count": 78,
     "metadata": {},
     "output_type": "execute_result"
    }
   ],
   "source": [
    "accuracies = [logistic_evaluation[0], nb_evaluation[0], svm_evaluation[0], nn_evaluation[0]]\n",
    "f1_scores = [logistic_evaluation[2], nb_evaluation[2], svm_evaluation[2], nn_evaluation[2]]\n",
    "model_names = ['Logistic Regression', \"Naive Bayes'\", 'SVM', 'Neural Network']\n",
    "\n",
    "pd.DataFrame(\n",
    "    {'Model': model_names,\n",
    "     'Accuracy': accuracies,\n",
    "     'F1 Score': f1_scores\n",
    "    }).set_index('Model')"
   ]
  },
  {
   "cell_type": "code",
   "execution_count": null,
   "metadata": {
    "collapsed": true
   },
   "outputs": [],
   "source": []
  }
 ],
 "metadata": {
  "kernelspec": {
   "display_name": "Python [conda env:python-got3]",
   "language": "python",
   "name": "conda-env-python-got3-py"
  },
  "language_info": {
   "codemirror_mode": {
    "name": "ipython",
    "version": 3
   },
   "file_extension": ".py",
   "mimetype": "text/x-python",
   "name": "python",
   "nbconvert_exporter": "python",
   "pygments_lexer": "ipython3",
   "version": "3.5.4"
  }
 },
 "nbformat": 4,
 "nbformat_minor": 2
}
